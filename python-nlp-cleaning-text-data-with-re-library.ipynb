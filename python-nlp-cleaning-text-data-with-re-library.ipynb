{
 "cells": [
  {
   "cell_type": "markdown",
   "id": "ef20b7dc",
   "metadata": {
    "papermill": {
     "duration": 0.015303,
     "end_time": "2024-11-23T15:01:44.118597",
     "exception": false,
     "start_time": "2024-11-23T15:01:44.103294",
     "status": "completed"
    },
    "tags": []
   },
   "source": [
    "# Introduction\n",
    "\n",
    " - In the modern era, text analysis and processing have become integral parts of various applications such as search engines, text classification, machine translation, and sentiment analysis. This type of analysis falls under the field of Natural Language Processing (NLP), which aims to enable computers to understand and interpret human language in a way that mimics human comprehension.\n",
    "\n",
    " - The regular expressions (re) library in Python is a powerful tool used in text processing and analysis. Due to its ability to handle complex text patterns, regular expressions help in cleaning textual data, which contributes to improving the accuracy of analysis. In this context, we use the re library to perform various tasks such as removing URLs, masking email addresses, eliminating numbers, and cleaning text from unwanted characters.\n",
    "\n",
    " - With these tools, we can prepare texts for more advanced tasks in NLP, such as text classification or information extraction, allowing us to better leverage this data in diverse applications like social media analysis, automated response systems, and legal or medical text analysis."
   ]
  },
  {
   "cell_type": "code",
   "execution_count": 1,
   "id": "ec99c206",
   "metadata": {
    "execution": {
     "iopub.execute_input": "2024-11-23T15:01:44.151322Z",
     "iopub.status.busy": "2024-11-23T15:01:44.150911Z",
     "iopub.status.idle": "2024-11-23T15:01:44.169297Z",
     "shell.execute_reply": "2024-11-23T15:01:44.168518Z"
    },
    "executionInfo": {
     "elapsed": 1070,
     "status": "ok",
     "timestamp": 1732356260678,
     "user": {
      "displayName": "Ahmed Lotfy",
      "userId": "06695974026339219292"
     },
     "user_tz": -120
    },
    "id": "d7Bs6GFmckCj",
    "papermill": {
     "duration": 0.038192,
     "end_time": "2024-11-23T15:01:44.171600",
     "exception": false,
     "start_time": "2024-11-23T15:01:44.133408",
     "status": "completed"
    },
    "tags": []
   },
   "outputs": [],
   "source": [
    "T='''\n",
    "\n",
    "Al-Ahly\" redirects here. For other uses, see Al-Ahly (disambiguation).\n",
    "\n",
    "Al Ahly SC\n",
    "\n",
    "\n",
    "\n",
    "Full name\tAl Ahly Sporting Club\n",
    "\n",
    "Nickname(s)\n",
    "\n",
    "Nadi El Watanniyah (Club of Patriotism)\n",
    "\n",
    "El Shayateen El Homr (The Red Devils)\n",
    "\n",
    "El Mared El Ahmar (The Red Giant)\n",
    "\n",
    "Nadi El Karn (Club of The Century)\n",
    "\n",
    "Short name\tASC, AFC, AHL\n",
    "\n",
    "Founded\t24 April 1907; 117 years ago\n",
    "\n",
    "Ground\tCairo International Stadium\n",
    "\n",
    "Capacity\t75,700\n",
    "\n",
    "Chairman\tMahmoud El Khatib\n",
    "\n",
    "Manager\tMarcel Koller\n",
    "\n",
    "League\tEgyptian Premier League\n",
    "\n",
    "2023–24\tEgyptian Premier League, 1st of 18 (champions)\n",
    "\n",
    "Website\talahlyegypt.com\n",
    "\n",
    "\n",
    "\n",
    "Home colours\n",
    "\n",
    "\n",
    "\n",
    "Away colours\n",
    "\n",
    " Current season\n",
    "\n",
    "Al Ahly Sporting Club (Arabic: النادي الأهلى للرياضة البدنية), commonly known as Al Ahly, is an Egyptian professional sports club based in Cairo, Egypt. The club is mainly known for its professional football team which currently plays in the Egyptian Premier League, the highest tier in the Egyptian football league system. The club is renowned for its consistent success at both domestic and continental levels, regularly contending in CAF tournaments.\n",
    "\n",
    "\n",
    "\n",
    "Founded on 24 April 1907 by Omar Lotfy, Al Ahly has a record of 44 Egyptian Premier League titles, 39 Egypt Cup titles and 15 Egyptian Super Cups. Al Ahly is the most successful club in Africa.[1]\n",
    "\n",
    "\n",
    "\n",
    "In international competitions, the club has won a record 12 CAF Champions League titles, 1 CAF Confederation Cup, a record of 8 CAF Super Cups, a record of 4 African Cup Winners' Cups, 1 Afro-Asian Club Championship, 1 Arab Club Champions Cup, 1 Arab Cup Winners' Cup, a record of 2 Arab Super Cups, and has won 4 bronze medals in the FIFA Club World Cup and 1 FIFA African-Asian-Pacific Cup in the FIFA Intercontinental Cup. With 27 official continental titles, Al Ahly was voted by CAF as the African club of the 20th century.[2]\n",
    "\n",
    "\n",
    "\n",
    "Active departments of Al Ahly SC\n",
    "\n",
    "\n",
    "\n",
    "Football\tVolleyball\n",
    "\n",
    "(Men's)\tVolleyball\n",
    "\n",
    "(Women's)\n",
    "\n",
    "\n",
    "\n",
    "Handball\n",
    "\n",
    "(Men's)\tHandball\n",
    "\n",
    "(Women's)\tBasketball\n",
    "\n",
    "(Men's)\n",
    "\n",
    "\n",
    "\n",
    "Basketball\n",
    "\n",
    "(Women's)\tTable tennis\tWater polo\n",
    "\n",
    "\n",
    "\n",
    "Field hockey\tRoller hockey\tTennis\n",
    "\n",
    "History\n",
    "\n",
    "Main article: History of Al Ahly SC\n",
    "\n",
    "Establishment and start of the club\n",
    "\n",
    "\n",
    "\n",
    "The first official meeting of the Al Ahly club's board.\n",
    "\n",
    "الأهلي بطل كأس مصر والكأس السلطانية 1925\n",
    "\n",
    "Al Ahly squad in 1925\n",
    "\n",
    "\n",
    "\n",
    "Saad Zaghloul, the minister of education, became the first honorary president of Al Ahly.\n",
    "\n",
    "The idea of establishing Al Ahly came in the first 10 years of the 20th century and was firstly raised by Omar Lotfy, who was a student in the Egyptian Law School during his presidency of the High School Students Club. The establishment of a club for high school students was for political reasons along with the students needing a sports club for them to gather for leisure and exercise.\n",
    "\n",
    "\n",
    "\n",
    "He discussed the idea of establishing the club with a group of friends who were enthusiastic about it and in 1907, Al Ahly was established.[3]\n",
    "\n",
    "\n",
    "\n",
    "\n",
    "\n",
    "Talaat Harb, president of the Bank of Egypt, contributed £E100 to the establishment of the club.\n",
    "\n",
    "\n",
    "\n",
    "Al Ahly squad in the first Egyptian League.\n",
    "\n",
    "Nour El-Dali - Saleh Selim\n",
    "\n",
    "Al Ahly's captain Saleh Selim shaking hands with Zamalek's captain Nour El-Dali and referee preparing to make a coin toss before playing the 1959 Egypt Cup final\n",
    "\n",
    "\n",
    "\n",
    "Omar Lotfy, the Cairo University student, who among other students group asked for the foundation of national club.\n",
    "\n",
    "The club was first headed by Alfred Mitchell-Innes, who was a British advisor to the Ministry of Finance at the time. He was the first head in order to facilitate financial support for the club. An official meeting of the club's board was held on 24 April 1907. The committee met at 5:30 pm in the house of Mitchell-Innes in Giza under his chairmanship and the membership of Idris Ragheb Bey, Ismael Seri Pasha, Amin Sami Pasha, Omar Lotfi Bek and Mohamed Effendi Sherif as secretary.[4]\n",
    "\n",
    "\n",
    "\n",
    "After the establishment of the club was approved, the main building was designed by architect Ismail Seri, and revised by Mitchell-Innes. A civil company on the behalf of Al Ahly Sports Club was established. Shares of the company were worth £E5 each, and it was the goal of the club when it was established to raise £E5,000. Only £E3,165 were collected over a year which was not enough to fund the establishment. This forced the club to borrow £E1,000 from the National Bank of Egypt in March 1908. Talaat Harb, the president of the Bank of Egypt, contributed £E100 to the establishment of the club.\n",
    "\n",
    "\n",
    "\n",
    "The first honorary president of the club was the Minister of Education Saad Zaghloul.[5] The name of Al Ahly Sporting Club was suggested by Amine Samy Amin, who suggested that the name is similar to the word \"National\" in Egyptian Arabic.[6] On 2 April 1908, Mitchell-Innes stepped down as president of the club. Aziz Ezzat was appointed as the new president and became the first Egyptian president of Al Ahly. The official opening ceremony of the club was held in its main building on 26 February 1909.\n",
    "\n",
    "\n",
    "\n",
    "\n",
    "\n",
    "Mokhtar El Tetsh, one of the club legends, is the namesake of the club's old stadium and current training ground\n",
    "\n",
    "The game of football was not one of the goals of the founders of Al Ahly SC, but rather to open its doors to students of high schools to meet and practice political dialogues. However, the graduates of high schools who were members of the club developed a passion with football, which prompted the club to build the first stadium in 1909. At the time, they called it Al-Hawsh; colloquially meaning the courtyard in Egyptian Arabic. The stadium was improved over the years, eventually becoming Mokhtar El-Tetsh Stadium.[7]\n",
    "\n",
    "\n",
    "\n",
    "The first official football team was established in 1911. The team was primary and secondary school players who played football in Al-Hawsh. The names of the first players of Al Ahly were as follows: Hussein Hegazi, Abdel Fattah Taher, Fouad Darwish\n",
    "\n",
    "هذه مقالةٌ مختارةٌ، وتعد من أجود محتويات ويكيبيديا. انقر هنا للمزيد من المعلومات.\n",
    "\n",
    "صفحة محمية جزئيًّا (سماح للمؤكدين تلقائيا)\n",
    "\n",
    "  هذه المقالة عن النادي الأهلي المصري لكرة القدم. لمسميات الأهلي المصري الأخرى، طالع الأهلي المصري (توضيح). للمعانٍ أخرى، طالع النادي الأهلي (توضيح).\n",
    "\n",
    "الأهلي\n",
    "\n",
    "\n",
    "\n",
    "الاسم الكامل\tالنادي الأهلي للرياضة البدنية\n",
    "\n",
    "اللقب\tالشياطين الحمر\n",
    "\n",
    "نادي القرن الإفريقي\n",
    "\n",
    "القلعة الحمراء\n",
    "\n",
    "نادي الوطنية\n",
    "\n",
    "المارد الأحمر\n",
    "\n",
    "الاسم المختصر\tASC\n",
    "\n",
    "الألوان\t الأهلي\n",
    "\n",
    "  الأحمر\n",
    "\n",
    "  الأبيض\n",
    "\n",
    "  الأسود\n",
    "\n",
    "المؤسس\tعمر لطفي بك\n",
    "\n",
    "أمين سامي باشا\n",
    "\n",
    "إدريس بك راغب\n",
    "\n",
    "ميشيل إنس\n",
    "\n",
    "تأسس عام\t24 أبريل 1907 (منذ 117 سنة)\n",
    "\n",
    "الملعب\tستاد القاهرة،\n",
    "\n",
    "محافظة القاهرة القاهرة، مصر\n",
    "\n",
    "(السعة: 75,000)\n",
    "\n",
    "البلد\t مصر\n",
    "\n",
    "الدوري\tالدوري المصري الممتاز\n",
    "\n",
    "2023–24\tالأول\n",
    "\n",
    "مجموعات الداعمين\tألتراس أهلاوي\n",
    "\n",
    "الإدارة\n",
    "\n",
    "الرئيس\tمصر محمود الخطيب\n",
    "\n",
    "المدير التنفيذي\tمصر سعد شلبي\n",
    "\n",
    "المدرب\tسويسرا مارسيل كولر\n",
    "\n",
    "الموقع الرسمي\twww.alahlyegypt.com\n",
    "\n",
    "بعض التاريخ\n",
    "\n",
    "أكبر فوز\tالأهلي 14–0 النادي النوبي بالقاهرة (17 نوفمبر 1931)\n",
    "\n",
    "أكبر خسارة\tفاروق (الزمالك) 6–0 الأهلي\n",
    "\n",
    "(2 يناير 1942)\n",
    "\n",
    "فاروق (الزمالك) 6–0 الأهلي\n",
    "\n",
    "(2 يونيو 1944)\n",
    "\n",
    "اللاعب الأكثر مشاركة\tمصر حسام عاشور (471 مباراة)\n",
    "\n",
    "الهداف\tمصر محمود الخطيب (157 هدف)\n",
    "\n",
    "الألقاب والأوسمة\n",
    "\n",
    "الجوائز\tنادي القرن الأفريقي  تعديل قيمة خاصية (P166) في ويكي بيانات\n",
    "\n",
    "المحلية\tالدوري المصري الممتاز (44)\n",
    "\n",
    "كأس مصر (39)\n",
    "\n",
    "كأس السوبر المصري (15)\n",
    "\n",
    "دوري منطقة القاهرة (15)\n",
    "\n",
    "كأس السلطان حسين (7)\n",
    "\n",
    "كأس الجمهورية العربية المتحدة (1)\n",
    "\n",
    "الدولية\tدوري أبطال إفريقيا (12)\n",
    "\n",
    "كأس الكونفيدرالية الإفريقية (1)\n",
    "\n",
    "كأس الكؤوس الإفريقية (4)\n",
    "\n",
    "كأس السوبر الإفريقي (8)\n",
    "\n",
    "الكأس الأفروآسيوية (1)\n",
    "\n",
    "كأس العرب للأندية الأبطال (1)\n",
    "\n",
    "البطولة العربية للأندية الفائزة بالكؤوس (1)\n",
    "\n",
    "كأس السوبر العربي (2)\n",
    "\n",
    "كأس إفريقيا-آسيا-المحيط الهادي (1)\n",
    "\n",
    "الطقم الرسمي\n",
    "\n",
    "\n",
    "\n",
    "الطقم الأساسي\n",
    "\n",
    "\n",
    "\n",
    "الطقم الاحتياطي\n",
    "\n",
    "\n",
    "\n",
    "الطقم الثالث\n",
    "\n",
    "آخر الأخبار\n",
    "\n",
    " الموسم الحالي\t2024–25\n",
    "\n",
    "تعديل مصدري - تعديل طالع توثيق القالب\n",
    "\n",
    "الفرق الرياضية بالنادي الأهلي\n",
    "\n",
    "\n",
    "\n",
    "كرة قدم\n",
    "\n",
    "الكرة الطائرة (رجال)\n",
    "\n",
    "الكرة الطائرة (سيدات)\n",
    "\n",
    "\n",
    "\n",
    "كرة السلة (رجال)\n",
    "\n",
    "كرة السلة (سيدات)\n",
    "\n",
    "كرة الماء\n",
    "\n",
    "\n",
    "\n",
    "كرة اليد\n",
    "\n",
    "الهوكى\n",
    "\n",
    "هوكى الانزلاق\n",
    "\n",
    "النَّادِي الأَهْلِي لِلْرِّيَاضَةِ البَدَنِيَة أو كَما يُعرف اختصارًا بِاسم النَّادِي الأَهْلِي، هو نادٍ رياضي مصري محترف يلعب في الدوري المصري الممتاز، ومقره في القاهرة، وهو واحد من سبعة أندية على مستوى العالم لم تهبط للدرجة الأدنى والوحيد في مصر بجانب نادي الزمالك الذي لم يهبط إلى دوري الدرجة الثانية. تأسَّس النادي الأهلي بتاريخ 24 أبريل 1907 وبعد ذلك أنشئ مجلس إدارة النادي الأهلي برئاسة الإنجليزي ميشيل إِنِس، وفي 1909 أُسِّس أول ملعب كرة قدم في تاريخ النادي وسُمِّيَ حينها باسم (الحُوش)، وتطور هذا الملعب حتَّى أصبح بمُسمَّاه الحالي (ملعب مختار التتش)، وأُنشئ أول فريق كرة قدم عام 1911، ووصل عدد الألعاب داخل النادي الأهلي عام 1916 إلى 4 ألعاب هي كرة القدم والتنس والبلياردو والجمباز. ويحمل النادي الأهلي منافسة قوية مع نادي الزمالك، واللذان يعتبران قطبي الكرة المصرية، وتعرف مبارياتهما باسم «ديربي القاهرة» أو «مباراة القمَّة».\n",
    "\n",
    "\n",
    "\n",
    "النادي الأهلي أكثر الأندية المصريَّة والعربيَّة والإفريقيَّة حصدًا للبطولات في لعبة كرة القدم، فقد حصل الأهلي على 25 بطولة إفريقيَّة قاريَّة وضعته في المركز الثاني بين أندية العالم خلف ريال مدريد الإسباني الذي حصل على 31 بطولة قاريَّة، وحصل الأهلي على أزيد من 150 بطولة وضعته بين أكتر الأندية تتويجا في العالم، وعلى الصعيد العربي يعتبر النادي الأهلي الأول عربيا بعدد 121 بطولة رسمية محليا وقاريا معترف بها من قبل الفيفا. على الصعيد المحلي حصل النادي الأهلي على درع الدوري المصري الممتاز 44 مرة آخرها درع عام 2024، وحصل على بطولة كأس مصر 39 مرة آخرها عام 2022، وقد فاز أيضًا بكأس السوبر المصري 15 مرة، وبدوري منطقة القاهرة 15 مرة، وبكأس السلطان حسين 7 مرات، كما حصل أيضًا على كأس الجمهورية العربية المتحدة مرة واحدة، وعلى كأس الاتحاد المصري التنشيطيَّة مرة واحدة. وعلى الصعيد الإفريقي حصل الفريق على دوري أبطال إفريقيا 12 مرات آخرها عام 2024، والتي تأهل من خلالها إلى كأس العالم للأندية للمرة العاشرة في تاريخه، وكأس السوبر الإفريقي 8 مرات بالإضافة إلى كأس الكونفيدرالية الإفريقية مرة واحدة وكأس الكؤوس الإفريقية 4 مرات، والكأس الأفروآسيوية للأندية مرة واحدة، وعلى الصعيد العربي حصل الفريق على كأس العرب للأندية الأبطال مرة واحدة، وعلى البطولة العربية للأندية الفائزة بالكؤوس مرة واحدة، وعلى كأس السوبر العربي مرتين، ويحمل الأهلي الرقم القياسي في عدد مرات الفوز بكُلٍّ من الدوري المصري الممتاز وكأس مصر وكأس السوبر المصري ودوري منطقة القاهرة وكأس السلطان حسين وكأس الجمهورية العربية المتحدة وكأس الاتحاد المصري التنشيطيَّة ودوري أبطال إفريقيا وكأس السوبر الإفريقي وكأس الكؤوس الإفريقية وكأس السوبر العربي، وبكأس الكونفيدرالية الإفريقيَّة، وعلى مستوى كأس العالم للأندية حقق النادي المركز الثالث أربع مرات من تسع مشاركات له فالبطولة.\n",
    "\n",
    "\n",
    "\n",
    "يلقب مشجعو الأهلي النادي بعدة ألقاب وهي الشياطين الحمر، المارد الأحمر، القلعة الحمراء ونادي الوطنيَّة، واختير الأهلي كأفضل نادٍ إفريقي في القرن العشرين، وذلك طبقًا لقرار الاتحاد الإفريقي لكرة القدم الذي أصدره عام 2000، كما اختير أيضًا كأفضل نادٍ في العالم وفق الاتحاد الدولي لتاريخ وإحصاءات كرة القدم عَن شهر يونيو 2006 ويوليو 2007، واختير أيضًا كأفضل نادي إفريقي في أعوام 2005 و2006 و2008 و2012 و2013 و2023، وحصل أيضًا على جائزة جلوب سوكر للنادي الأكثر تتويجًا في الشرق الأوسط في عام 2020، كما حصل أيضًا على شهادة المطابقة مع المواصفات الدولية (ISO 9001:2015) في عام 2021.\n",
    "\n",
    "\n",
    "\n",
    "تيمنًا باسمه سميت عدَّةً أندية في المنطقة باسم الأهلي مثل (أهلي جدة السعودي، شباب الأهلي دبي الإِماراتي، أهلي بنغازي الليبي، أهلي طرابلس الليبي، أهلي الخرطوم السوداني، أهلي عطبرة السوداني، أهلي ود مدني السوداني، أهلي شندي السوداني، أهلي صنعاء اليمني، أهلي تعز اليمني، أهلي الخليل الفلسطيني، أهلي بلاطة الفلسطيني، أهلي صيدا اللبناني، أهلي النبطية اللبناني، الأهلي الأردني، الأهلي القطري، الأهلي البحريني، أهلي برج بوعريريج الجزائري، الأهلي الماطري التونسي، أهلي سداب العُماني). وعلى مستوى الرياضات الأخرى فيتفوق الأهلي إفريقيًّا وعربيًّا في رياضات كرة السلة وكرة اليد والكرة الطائرة، كما يتفوق عالميًّا في لعبة الإِسكواش. يلعب النادي الأهلي مبارياته حاليًا على ستاد السلام، ويتسع الملعب لحوالي 25,000 متفرج.\n",
    "\n",
    "\n",
    "\n",
    "'''"
   ]
  },
  {
   "cell_type": "code",
   "execution_count": 2,
   "id": "30e2fcb1",
   "metadata": {
    "execution": {
     "iopub.execute_input": "2024-11-23T15:01:44.200540Z",
     "iopub.status.busy": "2024-11-23T15:01:44.199721Z",
     "iopub.status.idle": "2024-11-23T15:01:44.207378Z",
     "shell.execute_reply": "2024-11-23T15:01:44.206297Z"
    },
    "executionInfo": {
     "elapsed": 7,
     "status": "ok",
     "timestamp": 1732356260679,
     "user": {
      "displayName": "Ahmed Lotfy",
      "userId": "06695974026339219292"
     },
     "user_tz": -120
    },
    "id": "DJQRNd2CdjSH",
    "outputId": "097f99b0-997b-4c2d-8ce2-7b99f01ae16f",
    "papermill": {
     "duration": 0.024362,
     "end_time": "2024-11-23T15:01:44.209508",
     "exception": false,
     "start_time": "2024-11-23T15:01:44.185146",
     "status": "completed"
    },
    "tags": []
   },
   "outputs": [
    {
     "data": {
      "text/plain": [
       "11551"
      ]
     },
     "execution_count": 2,
     "metadata": {},
     "output_type": "execute_result"
    }
   ],
   "source": [
    "len(T)"
   ]
  },
  {
   "cell_type": "code",
   "execution_count": 3,
   "id": "4cbf97e3",
   "metadata": {
    "execution": {
     "iopub.execute_input": "2024-11-23T15:01:44.239080Z",
     "iopub.status.busy": "2024-11-23T15:01:44.238644Z",
     "iopub.status.idle": "2024-11-23T15:01:44.245814Z",
     "shell.execute_reply": "2024-11-23T15:01:44.244820Z"
    },
    "executionInfo": {
     "elapsed": 4,
     "status": "ok",
     "timestamp": 1732356261306,
     "user": {
      "displayName": "Ahmed Lotfy",
      "userId": "06695974026339219292"
     },
     "user_tz": -120
    },
    "id": "VUaHgaindsM1",
    "outputId": "e83be72b-2d48-4e18-c386-4441f9b6d18b",
    "papermill": {
     "duration": 0.024761,
     "end_time": "2024-11-23T15:01:44.248064",
     "exception": false,
     "start_time": "2024-11-23T15:01:44.223303",
     "status": "completed"
    },
    "tags": []
   },
   "outputs": [
    {
     "data": {
      "text/plain": [
       "1863"
      ]
     },
     "execution_count": 3,
     "metadata": {},
     "output_type": "execute_result"
    }
   ],
   "source": [
    "len(T.split())"
   ]
  },
  {
   "cell_type": "code",
   "execution_count": 4,
   "id": "d271cebf",
   "metadata": {
    "execution": {
     "iopub.execute_input": "2024-11-23T15:01:44.277196Z",
     "iopub.status.busy": "2024-11-23T15:01:44.276813Z",
     "iopub.status.idle": "2024-11-23T15:01:44.282603Z",
     "shell.execute_reply": "2024-11-23T15:01:44.281567Z"
    },
    "executionInfo": {
     "elapsed": 3,
     "status": "ok",
     "timestamp": 1732356261306,
     "user": {
      "displayName": "Ahmed Lotfy",
      "userId": "06695974026339219292"
     },
     "user_tz": -120
    },
    "id": "Zkd342q5dy_x",
    "outputId": "37454188-7aab-478f-dd6a-2b94c5cf38dd",
    "papermill": {
     "duration": 0.023193,
     "end_time": "2024-11-23T15:01:44.285119",
     "exception": false,
     "start_time": "2024-11-23T15:01:44.261926",
     "status": "completed"
    },
    "tags": []
   },
   "outputs": [
    {
     "name": "stdout",
     "output_type": "stream",
     "text": [
      "{'p', 'ً', 'ِ', 'f', 'ي', '\"', 'ث', 'i', 'خ', 'T', 'I', '،', 'ص', 'ب', 'B', '4', 'و', 'g', 'ُ', '2', 'V', ' ', '\\t', ']', 'ظ', 'ح', 'h', 'م', 'y', '(', 'ئ', 'm', 'ن', 'A', 'l', '8', 'W', 'ط', ':', 'N', '0', '£', 'إ', 'C', 'H', 'ا', 'ق', 'د', 's', 'ع', 'n', '7', 'U', 'ش', 't', '–', 'ك', 'ذ', 'آ', 'D', '5', '»', 'ر', 'ف', 'ّ', '6', 'K', 'o', 'ز', ',', 'Z', '\\n', 'd', '«', 'ى', 'ْ', 'q', 'ض', '1', 'u', 'v', \"'\", 'L', '[', 'R', '9', 'x', 'S', 'P', 'ء', 'ت', 'ؤ', 'أ', 'z', 'M', 'w', ';', 'غ', 'َ', 'k', 'س', 'ٍ', 'G', 'E', 'ة', 'c', 'b', 'ه', 'F', '3', 'e', 'ج', 'r', 'ل', 'O', 'a', ')', 'ٌ', '-', '.'}\n"
     ]
    }
   ],
   "source": [
    "print(set(T))"
   ]
  },
  {
   "cell_type": "code",
   "execution_count": 5,
   "id": "999179ea",
   "metadata": {
    "execution": {
     "iopub.execute_input": "2024-11-23T15:01:44.314444Z",
     "iopub.status.busy": "2024-11-23T15:01:44.314094Z",
     "iopub.status.idle": "2024-11-23T15:01:45.177906Z",
     "shell.execute_reply": "2024-11-23T15:01:45.176778Z"
    },
    "executionInfo": {
     "elapsed": 1009,
     "status": "ok",
     "timestamp": 1732356262313,
     "user": {
      "displayName": "Ahmed Lotfy",
      "userId": "06695974026339219292"
     },
     "user_tz": -120
    },
    "id": "acIqRiT1eTni",
    "papermill": {
     "duration": 0.88171,
     "end_time": "2024-11-23T15:01:45.180616",
     "exception": false,
     "start_time": "2024-11-23T15:01:44.298906",
     "status": "completed"
    },
    "tags": []
   },
   "outputs": [],
   "source": [
    "import pandas as pd"
   ]
  },
  {
   "cell_type": "code",
   "execution_count": 6,
   "id": "3c8b35a0",
   "metadata": {
    "execution": {
     "iopub.execute_input": "2024-11-23T15:01:45.210631Z",
     "iopub.status.busy": "2024-11-23T15:01:45.210133Z",
     "iopub.status.idle": "2024-11-23T15:01:45.234859Z",
     "shell.execute_reply": "2024-11-23T15:01:45.233684Z"
    },
    "executionInfo": {
     "elapsed": 34,
     "status": "ok",
     "timestamp": 1732356262313,
     "user": {
      "displayName": "Ahmed Lotfy",
      "userId": "06695974026339219292"
     },
     "user_tz": -120
    },
    "id": "pSbxlfd2efNs",
    "outputId": "619ea987-ceab-468d-e476-d647b6bb50c6",
    "papermill": {
     "duration": 0.042066,
     "end_time": "2024-11-23T15:01:45.237019",
     "exception": false,
     "start_time": "2024-11-23T15:01:45.194953",
     "status": "completed"
    },
    "tags": []
   },
   "outputs": [
    {
     "data": {
      "text/plain": [
       "     1703\n",
       "ا     646\n",
       "ل     601\n",
       "e     430\n",
       "ي     419\n",
       "     ... \n",
       "«       2\n",
       "»       2\n",
       "ظ       1\n",
       "U       1\n",
       "x       1\n",
       "Name: count, Length: 120, dtype: int64"
      ]
     },
     "execution_count": 6,
     "metadata": {},
     "output_type": "execute_result"
    }
   ],
   "source": [
    "pd.Series(i for i in T).value_counts()"
   ]
  },
  {
   "cell_type": "code",
   "execution_count": 7,
   "id": "7819bd25",
   "metadata": {
    "execution": {
     "iopub.execute_input": "2024-11-23T15:01:45.266735Z",
     "iopub.status.busy": "2024-11-23T15:01:45.266383Z",
     "iopub.status.idle": "2024-11-23T15:01:45.273165Z",
     "shell.execute_reply": "2024-11-23T15:01:45.272059Z"
    },
    "executionInfo": {
     "elapsed": 33,
     "status": "ok",
     "timestamp": 1732356262313,
     "user": {
      "displayName": "Ahmed Lotfy",
      "userId": "06695974026339219292"
     },
     "user_tz": -120
    },
    "id": "nM1YZifIeqst",
    "papermill": {
     "duration": 0.02436,
     "end_time": "2024-11-23T15:01:45.275395",
     "exception": false,
     "start_time": "2024-11-23T15:01:45.251035",
     "status": "completed"
    },
    "tags": []
   },
   "outputs": [],
   "source": [
    "cleanedT=''.join([i for i in T if i.lower() in '1234567890abcdefghijklmnopqrstuvwxyz '])"
   ]
  },
  {
   "cell_type": "code",
   "execution_count": 8,
   "id": "c5189a83",
   "metadata": {
    "execution": {
     "iopub.execute_input": "2024-11-23T15:01:45.305342Z",
     "iopub.status.busy": "2024-11-23T15:01:45.304967Z",
     "iopub.status.idle": "2024-11-23T15:01:45.311914Z",
     "shell.execute_reply": "2024-11-23T15:01:45.310705Z"
    },
    "executionInfo": {
     "elapsed": 32,
     "status": "ok",
     "timestamp": 1732356262313,
     "user": {
      "displayName": "Ahmed Lotfy",
      "userId": "06695974026339219292"
     },
     "user_tz": -120
    },
    "id": "IHGwgsrsfP7W",
    "outputId": "60686f66-a077-48e9-c4d5-19471ed51f0c",
    "papermill": {
     "duration": 0.024796,
     "end_time": "2024-11-23T15:01:45.314244",
     "exception": false,
     "start_time": "2024-11-23T15:01:45.289448",
     "status": "completed"
    },
    "tags": []
   },
   "outputs": [
    {
     "data": {
      "text/plain": [
       "'AlAhly redirects here For other uses see AlAhly disambiguationAl Ahly SCFull nameAl Ahly Sporting ClubNicknamesNadi El Watanniyah Club of PatriotismEl Shayateen El Homr The Red DevilsEl Mared El Ahmar The Red GiantNadi El Karn Club of The CenturyShort nameASC AFC AHLFounded24 April 1907 117 years agoGroundCairo International StadiumCapacity75700ChairmanMahmoud El KhatibManagerMarcel KollerLeagueEgyptian Premier League202324Egyptian Premier League 1st of 18 championsWebsitealahlyegyptcomHome coloursAway colours Current seasonAl Ahly Sporting Club Arabic     commonly known as Al Ahly is an Egyptian professional sports club based in Cairo Egypt The club is mainly known for its professional football team which currently plays in the Egyptian Premier League the highest tier in the Egyptian football league system The club is renowned for its consistent success at both domestic and continental levels regularly contending in CAF tournamentsFounded on 24 April 1907 by Omar Lotfy Al Ahly has a record of 44 Egyptian Premier League titles 39 Egypt Cup titles and 15 Egyptian Super Cups Al Ahly is the most successful club in Africa1In international competitions the club has won a record 12 CAF Champions League titles 1 CAF Confederation Cup a record of 8 CAF Super Cups a record of 4 African Cup Winners Cups 1 AfroAsian Club Championship 1 Arab Club Champions Cup 1 Arab Cup Winners Cup a record of 2 Arab Super Cups and has won 4 bronze medals in the FIFA Club World Cup and 1 FIFA AfricanAsianPacific Cup in the FIFA Intercontinental Cup With 27 official continental titles Al Ahly was voted by CAF as the African club of the 20th century2Active departments of Al Ahly SCFootballVolleyballMensVolleyballWomensHandballMensHandballWomensBasketballMensBasketballWomensTable tennisWater poloField hockeyRoller hockeyTennisHistoryMain article History of Al Ahly SCEstablishment and start of the clubThe first official meeting of the Al Ahly clubs board      1925Al Ahly squad in 1925Saad Zaghloul the minister of education became the first honorary president of Al AhlyThe idea of establishing Al Ahly came in the first 10 years of the 20th century and was firstly raised by Omar Lotfy who was a student in the Egyptian Law School during his presidency of the High School Students Club The establishment of a club for high school students was for political reasons along with the students needing a sports club for them to gather for leisure and exerciseHe discussed the idea of establishing the club with a group of friends who were enthusiastic about it and in 1907 Al Ahly was established3Talaat Harb president of the Bank of Egypt contributed E100 to the establishment of the clubAl Ahly squad in the first Egyptian LeagueNour ElDali  Saleh SelimAl Ahlys captain Saleh Selim shaking hands with Zamaleks captain Nour ElDali and referee preparing to make a coin toss before playing the 1959 Egypt Cup finalOmar Lotfy the Cairo University student who among other students group asked for the foundation of national clubThe club was first headed by Alfred MitchellInnes who was a British advisor to the Ministry of Finance at the time He was the first head in order to facilitate financial support for the club An official meeting of the clubs board was held on 24 April 1907 The committee met at 530 pm in the house of MitchellInnes in Giza under his chairmanship and the membership of Idris Ragheb Bey Ismael Seri Pasha Amin Sami Pasha Omar Lotfi Bek and Mohamed Effendi Sherif as secretary4After the establishment of the club was approved the main building was designed by architect Ismail Seri and revised by MitchellInnes A civil company on the behalf of Al Ahly Sports Club was established Shares of the company were worth E5 each and it was the goal of the club when it was established to raise E5000 Only E3165 were collected over a year which was not enough to fund the establishment This forced the club to borrow E1000 from the National Bank of Egypt in March 1908 Talaat Harb the president of the Bank of Egypt contributed E100 to the establishment of the clubThe first honorary president of the club was the Minister of Education Saad Zaghloul5 The name of Al Ahly Sporting Club was suggested by Amine Samy Amin who suggested that the name is similar to the word National in Egyptian Arabic6 On 2 April 1908 MitchellInnes stepped down as president of the club Aziz Ezzat was appointed as the new president and became the first Egyptian president of Al Ahly The official opening ceremony of the club was held in its main building on 26 February 1909Mokhtar El Tetsh one of the club legends is the namesake of the clubs old stadium and current training groundThe game of football was not one of the goals of the founders of Al Ahly SC but rather to open its doors to students of high schools to meet and practice political dialogues However the graduates of high schools who were members of the club developed a passion with football which prompted the club to build the first stadium in 1909 At the time they called it AlHawsh colloquially meaning the courtyard in Egyptian Arabic The stadium was improved over the years eventually becoming Mokhtar ElTetsh Stadium7The first official football team was established in 1911 The team was primary and secondary school players who played football in AlHawsh The names of the first players of Al Ahly were as follows Hussein Hegazi Abdel Fattah Taher Fouad Darwish                                                   ASC               24  1907  117      75000   202324          wwwalahlyegyptcom   140    17  1931   60 2  1942  60 2  1944     471    157         P166      44  39   15   15   7    1   12   1   4   8  1    1     1   2   1       202425                                                                          24  1907             1909                             1911        1916  4                                             25                  31        150                  121                     44     2024      39    2022       15     15     7                            12    2024                8            4                                                                                                                               2000                  2006  2007        2005 2006 2008 2012 2013 2023               2020          ISO 90012015   2021                                                                                                       25000 '"
      ]
     },
     "execution_count": 8,
     "metadata": {},
     "output_type": "execute_result"
    }
   ],
   "source": [
    "cleanedT"
   ]
  },
  {
   "cell_type": "code",
   "execution_count": 9,
   "id": "957168fb",
   "metadata": {
    "execution": {
     "iopub.execute_input": "2024-11-23T15:01:45.345138Z",
     "iopub.status.busy": "2024-11-23T15:01:45.344293Z",
     "iopub.status.idle": "2024-11-23T15:01:45.352144Z",
     "shell.execute_reply": "2024-11-23T15:01:45.350736Z"
    },
    "executionInfo": {
     "elapsed": 31,
     "status": "ok",
     "timestamp": 1732356262313,
     "user": {
      "displayName": "Ahmed Lotfy",
      "userId": "06695974026339219292"
     },
     "user_tz": -120
    },
    "id": "eLsQO_SagPPt",
    "outputId": "95c55b01-0ee5-4bc4-ad5c-821f5d14b9ab",
    "papermill": {
     "duration": 0.025625,
     "end_time": "2024-11-23T15:01:45.354320",
     "exception": false,
     "start_time": "2024-11-23T15:01:45.328695",
     "status": "completed"
    },
    "tags": []
   },
   "outputs": [
    {
     "data": {
      "text/plain": [
       "{' ',\n",
       " '0',\n",
       " '1',\n",
       " '2',\n",
       " '3',\n",
       " '4',\n",
       " '5',\n",
       " '6',\n",
       " '7',\n",
       " '8',\n",
       " '9',\n",
       " 'A',\n",
       " 'B',\n",
       " 'C',\n",
       " 'D',\n",
       " 'E',\n",
       " 'F',\n",
       " 'G',\n",
       " 'H',\n",
       " 'I',\n",
       " 'K',\n",
       " 'L',\n",
       " 'M',\n",
       " 'N',\n",
       " 'O',\n",
       " 'P',\n",
       " 'R',\n",
       " 'S',\n",
       " 'T',\n",
       " 'U',\n",
       " 'V',\n",
       " 'W',\n",
       " 'Z',\n",
       " 'a',\n",
       " 'b',\n",
       " 'c',\n",
       " 'd',\n",
       " 'e',\n",
       " 'f',\n",
       " 'g',\n",
       " 'h',\n",
       " 'i',\n",
       " 'k',\n",
       " 'l',\n",
       " 'm',\n",
       " 'n',\n",
       " 'o',\n",
       " 'p',\n",
       " 'q',\n",
       " 'r',\n",
       " 's',\n",
       " 't',\n",
       " 'u',\n",
       " 'v',\n",
       " 'w',\n",
       " 'x',\n",
       " 'y',\n",
       " 'z'}"
      ]
     },
     "execution_count": 9,
     "metadata": {},
     "output_type": "execute_result"
    }
   ],
   "source": [
    "set(cleanedT)"
   ]
  },
  {
   "cell_type": "code",
   "execution_count": 10,
   "id": "0dcb89fe",
   "metadata": {
    "execution": {
     "iopub.execute_input": "2024-11-23T15:01:45.385162Z",
     "iopub.status.busy": "2024-11-23T15:01:45.384230Z",
     "iopub.status.idle": "2024-11-23T15:01:45.390612Z",
     "shell.execute_reply": "2024-11-23T15:01:45.389638Z"
    },
    "executionInfo": {
     "elapsed": 30,
     "status": "ok",
     "timestamp": 1732356262314,
     "user": {
      "displayName": "Ahmed Lotfy",
      "userId": "06695974026339219292"
     },
     "user_tz": -120
    },
    "id": "j8I1Yfy5nm4B",
    "papermill": {
     "duration": 0.023895,
     "end_time": "2024-11-23T15:01:45.392650",
     "exception": false,
     "start_time": "2024-11-23T15:01:45.368755",
     "status": "completed"
    },
    "tags": []
   },
   "outputs": [],
   "source": [
    "cleanedT=''.join([i for i in T if i  in ' أذضثقفغعهخحجدطكمنتالبيسشئءؤرلاىةةوزظظزا' ])"
   ]
  },
  {
   "cell_type": "code",
   "execution_count": 11,
   "id": "b53af923",
   "metadata": {
    "execution": {
     "iopub.execute_input": "2024-11-23T15:01:45.422503Z",
     "iopub.status.busy": "2024-11-23T15:01:45.422109Z",
     "iopub.status.idle": "2024-11-23T15:01:45.428717Z",
     "shell.execute_reply": "2024-11-23T15:01:45.427681Z"
    },
    "executionInfo": {
     "elapsed": 29,
     "status": "ok",
     "timestamp": 1732356262314,
     "user": {
      "displayName": "Ahmed Lotfy",
      "userId": "06695974026339219292"
     },
     "user_tz": -120
    },
    "id": "2vjRgm2snm4B",
    "outputId": "c5a6bc3f-243f-4a4b-dc79-51d16dd7e52d",
    "papermill": {
     "duration": 0.023988,
     "end_time": "2024-11-23T15:01:45.430736",
     "exception": false,
     "start_time": "2024-11-23T15:01:45.406748",
     "status": "completed"
    },
    "tags": []
   },
   "outputs": [
    {
     "data": {
      "text/plain": [
       "'                                                                   النادي الأهلى للرياضة البدنية                                                                                                                                                                                                                            الأهلي بطل كأس مر والكأس السلطانية                                                                                                                                                                                                                                                                                                                                                                                                                                                                                                                                                                                                                         هذه مقالة مختارة وتعد من أجود محتويات ويكيبيديا انقر هنا للمزيد من المعلوماتفحة محمية جزئيا سماح للمؤكدين تلقائيا  هذه المقالة عن النادي الأهلي المري لكرة القدم لمسميات الأهلي المري الأخرى طالع الأهلي المري توضيح للمعان أخرى طالع النادي الأهلي توضيحالأهليالاسم الكاملالنادي الأهلي للرياضة البدنيةاللقبالشياطين الحمرنادي القرن الفريقيالقلعة الحمراءنادي الوطنيةالمارد الأحمرالاسم المخترالألوان الأهلي  الأحمر  الأبيض  الأسودالمؤسسعمر لطفي بكأمين سامي باشادريس بك راغبميشيل نستأسس عام أبريل  منذ  سنةالملعبستاد القاهرةمحافظة القاهرة القاهرة مرالسعة البلد مرالدوريالدوري المري الممتازالأولمجموعات الداعمينألتراس أهلاويالدارةالرئيسمر محمود الخطيبالمدير التنفيذيمر سعد شلبيالمدربسويسرا مارسيل كولرالموقع الرسميبعض التاريخأكبر فوزالأهلي  النادي النوبي بالقاهرة  نوفمبر أكبر خسارةفاروق الزمالك  الأهلي يناير فاروق الزمالك  الأهلي يونيو اللاعب الأكثر مشاركةمر حسام عاشور  مباراةالهدافمر محمود الخطيب  هدفالألقاب والأوسمةالجوائزنادي القرن الأفريقي  تعديل قيمة خاية  في ويكي بياناتالمحليةالدوري المري الممتاز كأس مر كأس السوبر المري دوري منطقة القاهرة كأس السلطان حسين كأس الجمهورية العربية المتحدة الدوليةدوري أبطال فريقيا كأس الكونفيدرالية الفريقية كأس الكؤوس الفريقية كأس السوبر الفريقي الكأس الأفروسيوية كأس العرب للأندية الأبطال البطولة العربية للأندية الفائزة بالكؤوس كأس السوبر العربي كأس فريقياسياالمحيط الهادي الطقم الرسميالطقم الأساسيالطقم الاحتياطيالطقم الثالثخر الأخبار الموسم الحاليتعديل مدري  تعديل طالع توثيق القالبالفرق الرياضية بالنادي الأهليكرة قدمالكرة الطائرة رجالالكرة الطائرة سيداتكرة السلة رجالكرة السلة سيداتكرة الماءكرة اليدالهوكىهوكى الانزلاقالنادي الأهلي للرياضة البدنية أو كما يعرف اختارا باسم النادي الأهلي هو ناد رياضي مري محترف يلعب في الدوري المري الممتاز ومقره في القاهرة وهو واحد من سبعة أندية على مستوى العالم لم تهبط للدرجة الأدنى والوحيد في مر بجانب نادي الزمالك الذي لم يهبط لى دوري الدرجة الثانية تأسس النادي الأهلي بتاريخ  أبريل  وبعد ذلك أنشئ مجلس دارة النادي الأهلي برئاسة النجليزي ميشيل نس وفي  أسس أول ملعب كرة قدم في تاريخ النادي وسمي حينها باسم الحوش وتطور هذا الملعب حتى أبح بمسماه الحالي ملعب مختار التتش وأنشئ أول فريق كرة قدم عام  وول عدد الألعاب داخل النادي الأهلي عام  لى  ألعاب هي كرة القدم والتنس والبلياردو والجمباز ويحمل النادي الأهلي منافسة قوية مع نادي الزمالك واللذان يعتبران قطبي الكرة المرية وتعرف مبارياتهما باسم ديربي القاهرة أو مباراة القمةالنادي الأهلي أكثر الأندية المرية والعربية والفريقية حدا للبطولات في لعبة كرة القدم فقد حل الأهلي على  بطولة فريقية قارية وضعته في المركز الثاني بين أندية العالم خلف ريال مدريد السباني الذي حل على  بطولة قارية وحل الأهلي على أزيد من  بطولة وضعته بين أكتر الأندية تتويجا في العالم وعلى العيد العربي يعتبر النادي الأهلي الأول عربيا بعدد  بطولة رسمية محليا وقاريا معترف بها من قبل الفيفا على العيد المحلي حل النادي الأهلي على درع الدوري المري الممتاز  مرة خرها درع عام  وحل على بطولة كأس مر  مرة خرها عام  وقد فاز أيضا بكأس السوبر المري  مرة وبدوري منطقة القاهرة  مرة وبكأس السلطان حسين  مرات كما حل أيضا على كأس الجمهورية العربية المتحدة مرة واحدة وعلى كأس الاتحاد المري التنشيطية مرة واحدة وعلى العيد الفريقي حل الفريق على دوري أبطال فريقيا  مرات خرها عام  والتي تأهل من خلالها لى كأس العالم للأندية للمرة العاشرة في تاريخه وكأس السوبر الفريقي  مرات بالضافة لى كأس الكونفيدرالية الفريقية مرة واحدة وكأس الكؤوس الفريقية  مرات والكأس الأفروسيوية للأندية مرة واحدة وعلى العيد العربي حل الفريق على كأس العرب للأندية الأبطال مرة واحدة وعلى البطولة العربية للأندية الفائزة بالكؤوس مرة واحدة وعلى كأس السوبر العربي مرتين ويحمل الأهلي الرقم القياسي في عدد مرات الفوز بكل من الدوري المري الممتاز وكأس مر وكأس السوبر المري ودوري منطقة القاهرة وكأس السلطان حسين وكأس الجمهورية العربية المتحدة وكأس الاتحاد المري التنشيطية ودوري أبطال فريقيا وكأس السوبر الفريقي وكأس الكؤوس الفريقية وكأس السوبر العربي وبكأس الكونفيدرالية الفريقية وعلى مستوى كأس العالم للأندية حقق النادي المركز الثالث أربع مرات من تسع مشاركات له فالبطولةيلقب مشجعو الأهلي النادي بعدة ألقاب وهي الشياطين الحمر المارد الأحمر القلعة الحمراء ونادي الوطنية واختير الأهلي كأفضل ناد فريقي في القرن العشرين وذلك طبقا لقرار الاتحاد الفريقي لكرة القدم الذي أدره عام  كما اختير أيضا كأفضل ناد في العالم وفق الاتحاد الدولي لتاريخ وحاءات كرة القدم عن شهر يونيو  ويوليو  واختير أيضا كأفضل نادي فريقي في أعوام  و و و و و وحل أيضا على جائزة جلوب سوكر للنادي الأكثر تتويجا في الشرق الأوسط في عام  كما حل أيضا على شهادة المطابقة مع الموافات الدولية   في عام تيمنا باسمه سميت عدة أندية في المنطقة باسم الأهلي مثل أهلي جدة السعودي شباب الأهلي دبي الماراتي أهلي بنغازي الليبي أهلي طرابلس الليبي أهلي الخرطوم السوداني أهلي عطبرة السوداني أهلي ود مدني السوداني أهلي شندي السوداني أهلي نعاء اليمني أهلي تعز اليمني أهلي الخليل الفلسطيني أهلي بلاطة الفلسطيني أهلي يدا اللبناني أهلي النبطية اللبناني الأهلي الأردني الأهلي القطري الأهلي البحريني أهلي برج بوعريريج الجزائري الأهلي الماطري التونسي أهلي سداب العماني وعلى مستوى الرياضات الأخرى فيتفوق الأهلي فريقيا وعربيا في رياضات كرة السلة وكرة اليد والكرة الطائرة كما يتفوق عالميا في لعبة السكواش يلعب النادي الأهلي مبارياته حاليا على ستاد السلام ويتسع الملعب لحوالي  متفرج'"
      ]
     },
     "execution_count": 11,
     "metadata": {},
     "output_type": "execute_result"
    }
   ],
   "source": [
    "cleanedT"
   ]
  },
  {
   "cell_type": "code",
   "execution_count": 12,
   "id": "0ec04de6",
   "metadata": {
    "execution": {
     "iopub.execute_input": "2024-11-23T15:01:45.461547Z",
     "iopub.status.busy": "2024-11-23T15:01:45.460695Z",
     "iopub.status.idle": "2024-11-23T15:01:45.468296Z",
     "shell.execute_reply": "2024-11-23T15:01:45.467091Z"
    },
    "executionInfo": {
     "elapsed": 28,
     "status": "ok",
     "timestamp": 1732356262314,
     "user": {
      "displayName": "Ahmed Lotfy",
      "userId": "06695974026339219292"
     },
     "user_tz": -120
    },
    "id": "LLUktOIfnm4C",
    "outputId": "0f4b2396-57c6-4d22-fdc9-fbfc2a4cc749",
    "papermill": {
     "duration": 0.025174,
     "end_time": "2024-11-23T15:01:45.470450",
     "exception": false,
     "start_time": "2024-11-23T15:01:45.445276",
     "status": "completed"
    },
    "tags": []
   },
   "outputs": [
    {
     "data": {
      "text/plain": [
       "{' ',\n",
       " 'ء',\n",
       " 'أ',\n",
       " 'ؤ',\n",
       " 'ئ',\n",
       " 'ا',\n",
       " 'ب',\n",
       " 'ة',\n",
       " 'ت',\n",
       " 'ث',\n",
       " 'ج',\n",
       " 'ح',\n",
       " 'خ',\n",
       " 'د',\n",
       " 'ذ',\n",
       " 'ر',\n",
       " 'ز',\n",
       " 'س',\n",
       " 'ش',\n",
       " 'ض',\n",
       " 'ط',\n",
       " 'ظ',\n",
       " 'ع',\n",
       " 'غ',\n",
       " 'ف',\n",
       " 'ق',\n",
       " 'ك',\n",
       " 'ل',\n",
       " 'م',\n",
       " 'ن',\n",
       " 'ه',\n",
       " 'و',\n",
       " 'ى',\n",
       " 'ي'}"
      ]
     },
     "execution_count": 12,
     "metadata": {},
     "output_type": "execute_result"
    }
   ],
   "source": [
    "set(cleanedT)"
   ]
  },
  {
   "cell_type": "markdown",
   "id": "c19c93ec",
   "metadata": {
    "id": "uq1VhqJN29co",
    "papermill": {
     "duration": 0.014427,
     "end_time": "2024-11-23T15:01:45.499451",
     "exception": false,
     "start_time": "2024-11-23T15:01:45.485024",
     "status": "completed"
    },
    "tags": []
   },
   "source": [
    "#re"
   ]
  },
  {
   "cell_type": "code",
   "execution_count": 13,
   "id": "6716fafb",
   "metadata": {
    "execution": {
     "iopub.execute_input": "2024-11-23T15:01:45.529789Z",
     "iopub.status.busy": "2024-11-23T15:01:45.529432Z",
     "iopub.status.idle": "2024-11-23T15:01:45.534355Z",
     "shell.execute_reply": "2024-11-23T15:01:45.533083Z"
    },
    "executionInfo": {
     "elapsed": 26,
     "status": "ok",
     "timestamp": 1732356262314,
     "user": {
      "displayName": "Ahmed Lotfy",
      "userId": "06695974026339219292"
     },
     "user_tz": -120
    },
    "id": "eHro_Y1W29F5",
    "papermill": {
     "duration": 0.022581,
     "end_time": "2024-11-23T15:01:45.536471",
     "exception": false,
     "start_time": "2024-11-23T15:01:45.513890",
     "status": "completed"
    },
    "tags": []
   },
   "outputs": [],
   "source": [
    "import re"
   ]
  },
  {
   "cell_type": "code",
   "execution_count": 14,
   "id": "a3e7fe60",
   "metadata": {
    "execution": {
     "iopub.execute_input": "2024-11-23T15:01:45.568175Z",
     "iopub.status.busy": "2024-11-23T15:01:45.566931Z",
     "iopub.status.idle": "2024-11-23T15:01:45.574541Z",
     "shell.execute_reply": "2024-11-23T15:01:45.573460Z"
    },
    "executionInfo": {
     "elapsed": 25,
     "status": "ok",
     "timestamp": 1732356262314,
     "user": {
      "displayName": "Ahmed Lotfy",
      "userId": "06695974026339219292"
     },
     "user_tz": -120
    },
    "id": "in5aBGaV3JLD",
    "outputId": "284cbe99-3f3a-41fe-8551-98d92c7ea121",
    "papermill": {
     "duration": 0.025645,
     "end_time": "2024-11-23T15:01:45.576780",
     "exception": false,
     "start_time": "2024-11-23T15:01:45.551135",
     "status": "completed"
    },
    "tags": []
   },
   "outputs": [
    {
     "data": {
      "text/plain": [
       "'This is one type of url: hidden url and the other url is hidden url'"
      ]
     },
     "execution_count": 14,
     "metadata": {},
     "output_type": "execute_result"
    }
   ],
   "source": [
    "url_text=\"This is one type of url: https://www.linkedin.com/in/ahmed-lotfy-aa953a257/ and the other url is https://github.com/Ahmedlotfy15\"\n",
    "\n",
    "re.sub(\"(http\\S+)\",\"hidden url\",url_text)"
   ]
  },
  {
   "cell_type": "code",
   "execution_count": 15,
   "id": "3c636d6d",
   "metadata": {
    "execution": {
     "iopub.execute_input": "2024-11-23T15:01:45.608230Z",
     "iopub.status.busy": "2024-11-23T15:01:45.607130Z",
     "iopub.status.idle": "2024-11-23T15:01:45.614664Z",
     "shell.execute_reply": "2024-11-23T15:01:45.613606Z"
    },
    "executionInfo": {
     "elapsed": 24,
     "status": "ok",
     "timestamp": 1732356262314,
     "user": {
      "displayName": "Ahmed Lotfy",
      "userId": "06695974026339219292"
     },
     "user_tz": -120
    },
    "id": "lWBpFCKJ3mJg",
    "outputId": "74913168-0e2c-4d05-83a2-8657e2f0c350",
    "papermill": {
     "duration": 0.025438,
     "end_time": "2024-11-23T15:01:45.616844",
     "exception": false,
     "start_time": "2024-11-23T15:01:45.591406",
     "status": "completed"
    },
    "tags": []
   },
   "outputs": [
    {
     "data": {
      "text/plain": [
       "'Please contact us at hidden email or hidden email or on the phone number'"
      ]
     },
     "execution_count": 15,
     "metadata": {},
     "output_type": "execute_result"
    }
   ],
   "source": [
    "email_text = \"Please contact us at Rollolothrberg@gmail.com or Ragnar@gmail.com or on the phone number\"\n",
    "\n",
    "re.sub(\"([\\w\\.\\-\\_]+@[\\w\\.\\-\\_]+)\",\"hidden email\",email_text)"
   ]
  },
  {
   "cell_type": "code",
   "execution_count": 16,
   "id": "950a6820",
   "metadata": {
    "execution": {
     "iopub.execute_input": "2024-11-23T15:01:45.647637Z",
     "iopub.status.busy": "2024-11-23T15:01:45.647288Z",
     "iopub.status.idle": "2024-11-23T15:01:45.654380Z",
     "shell.execute_reply": "2024-11-23T15:01:45.653349Z"
    },
    "executionInfo": {
     "elapsed": 24,
     "status": "ok",
     "timestamp": 1732356262314,
     "user": {
      "displayName": "Ahmed Lotfy",
      "userId": "06695974026339219292"
     },
     "user_tz": -120
    },
    "id": "6WpS5Zx65Rfa",
    "outputId": "20e5b992-1b3d-4749-e54e-c1b2cac90c80",
    "papermill": {
     "duration": 0.024883,
     "end_time": "2024-11-23T15:01:45.656306",
     "exception": false,
     "start_time": "2024-11-23T15:01:45.631423",
     "status": "completed"
    },
    "tags": []
   },
   "outputs": [
    {
     "data": {
      "text/plain": [
       "'Phone Numbers are hidden number and hidden number'"
      ]
     },
     "execution_count": 16,
     "metadata": {},
     "output_type": "execute_result"
    }
   ],
   "source": [
    "numbers_text = \"Phone Numbers are 040486633 and 04048659\"\n",
    "\n",
    "re.sub(\"([\\d]+)\",\"hidden number\",numbers_text)"
   ]
  },
  {
   "cell_type": "code",
   "execution_count": 17,
   "id": "7ed9b7e1",
   "metadata": {
    "execution": {
     "iopub.execute_input": "2024-11-23T15:01:45.687810Z",
     "iopub.status.busy": "2024-11-23T15:01:45.687446Z",
     "iopub.status.idle": "2024-11-23T15:01:45.694586Z",
     "shell.execute_reply": "2024-11-23T15:01:45.693359Z"
    },
    "executionInfo": {
     "elapsed": 23,
     "status": "ok",
     "timestamp": 1732356262314,
     "user": {
      "displayName": "Ahmed Lotfy",
      "userId": "06695974026339219292"
     },
     "user_tz": -120
    },
    "id": "QG1uNGMw6DkV",
    "outputId": "263b4f8c-29af-45e0-dfa9-7b7e28b4bb59",
    "papermill": {
     "duration": 0.025525,
     "end_time": "2024-11-23T15:01:45.696802",
     "exception": false,
     "start_time": "2024-11-23T15:01:45.671277",
     "status": "completed"
    },
    "tags": []
   },
   "outputs": [
    {
     "data": {
      "text/plain": [
       "\"And I in going, madam, weep o'er my father's death anew: but I must attend his majesty's command, to  whom I am now in ward, evermore in subjection.\""
      ]
     },
     "execution_count": 17,
     "metadata": {},
     "output_type": "execute_result"
    }
   ],
   "source": [
    "newline_text = \"And I in going, madam, weep o'er my father's death\\n\\n anew: but I must attend his majesty's command, to \\n whom I am now in ward, evermore in subjection.\"\n",
    "\n",
    "re.sub('\\n+','',newline_text)"
   ]
  },
  {
   "cell_type": "code",
   "execution_count": 18,
   "id": "2ceaac1a",
   "metadata": {
    "execution": {
     "iopub.execute_input": "2024-11-23T15:01:45.728920Z",
     "iopub.status.busy": "2024-11-23T15:01:45.728558Z",
     "iopub.status.idle": "2024-11-23T15:01:45.734840Z",
     "shell.execute_reply": "2024-11-23T15:01:45.733617Z"
    },
    "executionInfo": {
     "elapsed": 22,
     "status": "ok",
     "timestamp": 1732356262314,
     "user": {
      "displayName": "Ahmed Lotfy",
      "userId": "06695974026339219292"
     },
     "user_tz": -120
    },
    "id": "MzSoltLj6f3H",
    "papermill": {
     "duration": 0.024872,
     "end_time": "2024-11-23T15:01:45.737095",
     "exception": false,
     "start_time": "2024-11-23T15:01:45.712223",
     "status": "completed"
    },
    "tags": []
   },
   "outputs": [],
   "source": [
    "T='''He was replaced by Marcel Koller who was appointed as Al Ahly's new manager on 9         September 2022.[100] Marcel Koller won his first trophy after Al Ahly beat rival Zamalek in a 2–0 win for the Egyptian Super Cup.\n",
    "\n",
    "\n",
    "\n",
    "Al Ahly under Marcel Koller beat Alexandria's based Smouha SC in a 3–1 win in the Egypt Cup     semi-final to meet Pyramids FC in the final. A couple of weeks later,           Al Ahly played Auckland City in the 2022 FIFA Club World Cup, where Al Ahly beat the New Zealand-based team in a 3–0 win to face off CONCACAF Champions League winners Seattle Sounders FC who were competing as the first MLS club to participate in the tournament and their first-ever match in the cup. Al Ahly achieved a late 1–0 victory and advanced to the semi-final to meet the UEFA Champions League winner Real Madrid. This would be the second time the two sides meet after Manuel Jose's 2001 debut with the club where he was able to beat Real Madrid 1–0 at the Cairo International Stadium. Al Ahly lost to Real Madrid and faced Flamengo for the third-place playoffs, when Al Ahly lost 4–2 and ended with the 4th place for the tournament.\n",
    "\n",
    "\n",
    "\n",
    "Al Ahly won the 2021–22 Egypt Cup after beating Pyramids in the final, being the 38th Egypt Cup for the club.[101]                                         Al Ahly later won the 13th Egyptian Super Cup in its history after beating Pyramids FC 1–0 at the Mohammed bin Zayed Stadium in Abu Dhabi, United Arab Emirates.[102]\n",
    "\n",
    "\n",
    "\n",
    "On 11 June 2023, Al Ahly won the CAF Champions League after defeating the same team they lost against in the 2021–22 final,               the Moroccan club Wydad AC after beating them 3–2 on aggregate in the final.                                                                                                                                                 The first match was played at the Cairo International Stadium on 4 June with Al Ahly winning 2–1, but drew with Wydad AC 1–1 at Stade Mohamed V. This gave Al Ahly its 11th CAF Champions League and qualified them for the 2023 FIFA Club World Cup and 2023 CAF Super Cup.[103] A month later, on 10 July, Al Ahly achieved their 43rd Egyptian Premier League title.[104] In the 2023–24 CAF Champions League, Al Ahly clinched their 12th title after a 1–0 win on aggregate over Espérance de Tunis in the final.[105]\n",
    "\n",
    "\n",
    "\n",
    "The Cairo Derby is a rivalry between Egyptian clubs Al Ahly SC and Zamalek SC.'''"
   ]
  },
  {
   "cell_type": "code",
   "execution_count": 19,
   "id": "cd51caee",
   "metadata": {
    "execution": {
     "iopub.execute_input": "2024-11-23T15:01:45.768819Z",
     "iopub.status.busy": "2024-11-23T15:01:45.768413Z",
     "iopub.status.idle": "2024-11-23T15:01:45.775504Z",
     "shell.execute_reply": "2024-11-23T15:01:45.774528Z"
    },
    "executionInfo": {
     "elapsed": 23,
     "status": "ok",
     "timestamp": 1732356262315,
     "user": {
      "displayName": "Ahmed Lotfy",
      "userId": "06695974026339219292"
     },
     "user_tz": -120
    },
    "id": "MIlWvxXA7DaG",
    "outputId": "3e6b6503-b290-4470-e3b5-139b0a8a390d",
    "papermill": {
     "duration": 0.025403,
     "end_time": "2024-11-23T15:01:45.777493",
     "exception": false,
     "start_time": "2024-11-23T15:01:45.752090",
     "status": "completed"
    },
    "tags": []
   },
   "outputs": [
    {
     "data": {
      "text/plain": [
       "\"He was replaced by Marcel Koller who was appointed as Al Ahly's new manager on 9September 2022.[100] Marcel Koller won his first trophy after Al Ahly beat rival Zamalek in a 2–0 win for the Egyptian Super Cup.Al Ahly under Marcel Koller beat Alexandria's based Smouha SC in a 3–1 win in the Egypt Cupsemi-final to meet Pyramids FC in the final. A couple of weeks later,Al Ahly played Auckland City in the 2022 FIFA Club World Cup, where Al Ahly beat the New Zealand-based team in a 3–0 win to face off CONCACAF Champions League winners Seattle Sounders FC who were competing as the first MLS club to participate in the tournament and their first-ever match in the cup. Al Ahly achieved a late 1–0 victory and advanced to the semi-final to meet the UEFA Champions League winner Real Madrid. This would be the second time the two sides meet after Manuel Jose's 2001 debut with the club where he was able to beat Real Madrid 1–0 at the Cairo International Stadium. Al Ahly lost to Real Madrid and faced Flamengo for the third-place playoffs, when Al Ahly lost 4–2 and ended with the 4th place for the tournament.Al Ahly won the 2021–22 Egypt Cup after beating Pyramids in the final, being the 38th Egypt Cup for the club.[101]Al Ahly later won the 13th Egyptian Super Cup in its history after beating Pyramids FC 1–0 at the Mohammed bin Zayed Stadium in Abu Dhabi, United Arab Emirates.[102]On 11 June 2023, Al Ahly won the CAF Champions League after defeating the same team they lost against in the 2021–22 final,the Moroccan club Wydad AC after beating them 3–2 on aggregate in the final.The first match was played at the Cairo International Stadium on 4 June with Al Ahly winning 2–1, but drew with Wydad AC 1–1 at Stade Mohamed V. This gave Al Ahly its 11th CAF Champions League and qualified them for the 2023 FIFA Club World Cup and 2023 CAF Super Cup.[103] A month later, on 10 July, Al Ahly achieved their 43rd Egyptian Premier League title.[104] In the 2023–24 CAF Champions League, Al Ahly clinched their 12th title after a 1–0 win on aggregate over Espérance de Tunis in the final.[105]The Cairo Derby is a rivalry between Egyptian clubs Al Ahly SC and Zamalek SC.\""
      ]
     },
     "execution_count": 19,
     "metadata": {},
     "output_type": "execute_result"
    }
   ],
   "source": [
    "re.sub(\"(\\s){2,}\",'',T)"
   ]
  },
  {
   "cell_type": "code",
   "execution_count": 20,
   "id": "a8492f4c",
   "metadata": {
    "execution": {
     "iopub.execute_input": "2024-11-23T15:01:45.809614Z",
     "iopub.status.busy": "2024-11-23T15:01:45.809193Z",
     "iopub.status.idle": "2024-11-23T15:01:45.816052Z",
     "shell.execute_reply": "2024-11-23T15:01:45.815037Z"
    },
    "executionInfo": {
     "elapsed": 22,
     "status": "ok",
     "timestamp": 1732356262315,
     "user": {
      "displayName": "Ahmed Lotfy",
      "userId": "06695974026339219292"
     },
     "user_tz": -120
    },
    "id": "cSZpJI2j7QVP",
    "outputId": "1f7a9910-d97d-442f-c1fd-4a97068e92cd",
    "papermill": {
     "duration": 0.025736,
     "end_time": "2024-11-23T15:01:45.818329",
     "exception": false,
     "start_time": "2024-11-23T15:01:45.792593",
     "status": "completed"
    },
    "tags": []
   },
   "outputs": [
    {
     "data": {
      "text/plain": [
       "'This is one type of url And the other url is  '"
      ]
     },
     "execution_count": 20,
     "metadata": {},
     "output_type": "execute_result"
    }
   ],
   "source": [
    "url_text_output = \"This is one type of url: And the other url is 341531351 زسيرةسير\"\n",
    "\n",
    "re.sub(\"([^a-zA-Z\\s])\",'',url_text_output)"
   ]
  },
  {
   "cell_type": "code",
   "execution_count": 21,
   "id": "f790c508",
   "metadata": {
    "execution": {
     "iopub.execute_input": "2024-11-23T15:01:45.850815Z",
     "iopub.status.busy": "2024-11-23T15:01:45.850406Z",
     "iopub.status.idle": "2024-11-23T15:01:45.857603Z",
     "shell.execute_reply": "2024-11-23T15:01:45.856438Z"
    },
    "executionInfo": {
     "elapsed": 354,
     "status": "ok",
     "timestamp": 1732356445484,
     "user": {
      "displayName": "Ahmed Lotfy",
      "userId": "06695974026339219292"
     },
     "user_tz": -120
    },
    "id": "w-V0ibT078Qr",
    "outputId": "9b8b7f17-5032-4a74-b923-9a7f150f6910",
    "papermill": {
     "duration": 0.026059,
     "end_time": "2024-11-23T15:01:45.859666",
     "exception": false,
     "start_time": "2024-11-23T15:01:45.833607",
     "status": "completed"
    },
    "tags": []
   },
   "outputs": [
    {
     "data": {
      "text/plain": [
       "\"👋 Hi, I'm Ahmed Lotfy 🧠 About Me 🎓 Machine Learning Engineer specialized in Artificial Intelligence. 💻 Passionate about developing innovative AI solutions and working on challenging machine learning problems. 🌟 I aspire to continuously learn more about Artificial Intelligence, master advanced libraries, and become a leader in this field.\""
      ]
     },
     "execution_count": 21,
     "metadata": {},
     "output_type": "execute_result"
    }
   ],
   "source": [
    "about_me='''\n",
    "\n",
    "               👋 Hi, I'm                     Ahmed Lotfy\n",
    "\n",
    "🧠 About Me\n",
    "\n",
    "🎓 Machine\n",
    "\n",
    " Learning Engineer\n",
    "\n",
    "   specialized in         Artificial Intelligence.\n",
    "\n",
    "💻 Passionate about developing\n",
    "\n",
    "\n",
    "\n",
    " innovative AI solutions and working on challenging machine learning problems.\n",
    "\n",
    "🌟 I aspire to continuously learn more about Artificial\n",
    "\n",
    "Intelligence, master advanced libraries,\n",
    "\n",
    "\n",
    "\n",
    " and become a leader in this field.              '''\n",
    "\n",
    "\n",
    "\n",
    "about_me=re.sub(\"\\s+\",\" \",about_me).strip()\n",
    "\n",
    "about_me"
   ]
  },
  {
   "cell_type": "code",
   "execution_count": 22,
   "id": "35e0d243",
   "metadata": {
    "execution": {
     "iopub.execute_input": "2024-11-23T15:01:45.891559Z",
     "iopub.status.busy": "2024-11-23T15:01:45.891163Z",
     "iopub.status.idle": "2024-11-23T15:01:45.898237Z",
     "shell.execute_reply": "2024-11-23T15:01:45.897265Z"
    },
    "executionInfo": {
     "elapsed": 305,
     "status": "ok",
     "timestamp": 1732356461056,
     "user": {
      "displayName": "Ahmed Lotfy",
      "userId": "06695974026339219292"
     },
     "user_tz": -120
    },
    "id": "Ja9J0GuJfFda",
    "outputId": "cf01e46c-c207-4c6e-9ac4-a1d7d6d171e7",
    "papermill": {
     "duration": 0.025733,
     "end_time": "2024-11-23T15:01:45.900557",
     "exception": false,
     "start_time": "2024-11-23T15:01:45.874824",
     "status": "completed"
    },
    "tags": []
   },
   "outputs": [
    {
     "data": {
      "text/plain": [
       "' Hi Im Ahmed Lotfy  About Me  Machine Learning Engineer specialized in Artificial Intelligence  Passionate about developing innovative AI solutions and working on challenging machine learning problems  I aspire to continuously learn more about Artificial Intelligence master advanced libraries and become a leader in this field'"
      ]
     },
     "execution_count": 22,
     "metadata": {},
     "output_type": "execute_result"
    }
   ],
   "source": [
    "about_me=re.sub(\"([^a-zA-Z\\s])\",'',about_me)\n",
    "\n",
    "about_me"
   ]
  },
  {
   "cell_type": "code",
   "execution_count": 23,
   "id": "55e84e7b",
   "metadata": {
    "execution": {
     "iopub.execute_input": "2024-11-23T15:01:45.933891Z",
     "iopub.status.busy": "2024-11-23T15:01:45.933511Z",
     "iopub.status.idle": "2024-11-23T15:01:45.941107Z",
     "shell.execute_reply": "2024-11-23T15:01:45.940050Z"
    },
    "executionInfo": {
     "elapsed": 325,
     "status": "ok",
     "timestamp": 1732357165271,
     "user": {
      "displayName": "Ahmed Lotfy",
      "userId": "06695974026339219292"
     },
     "user_tz": -120
    },
    "id": "SGoqVmREfc85",
    "outputId": "cd60c5dd-0efb-4786-d2cf-df30a1426c1e",
    "papermill": {
     "duration": 0.027078,
     "end_time": "2024-11-23T15:01:45.943198",
     "exception": false,
     "start_time": "2024-11-23T15:01:45.916120",
     "status": "completed"
    },
    "tags": []
   },
   "outputs": [
    {
     "data": {
      "text/plain": [
       "'انا احمد لطفي مهندس ذكاء اصطناعي اقيم ف مصر ف محافظة الدقهلية وانا اتطلع دائما لتتطوير نفسي ف مجالي خريج كلية الحاسبات والمعلومات جامعة المنصورة'"
      ]
     },
     "execution_count": 23,
     "metadata": {},
     "output_type": "execute_result"
    }
   ],
   "source": [
    "about_me='''انا احمدffrgrgrg لطفfrfي مهندس ذكاء اصطناعيrfsdfsd اقيم ف مصر ف محافظة الدقهلdfsfية وانا اتطلع دائما لتتطوير نفسي ف مجالي خريج كل565598ية الحاسبات والمfgdr56علومات جامعة المنصورة'''\n",
    "\n",
    "re.sub(\"[^ذضصثقفغعهخطحجدطكمنتالبيسش'ئئءؤرلاىةوزوزظ\\s]\",\"\",about_me)"
   ]
  },
  {
   "cell_type": "code",
   "execution_count": 24,
   "id": "47f52b6c",
   "metadata": {
    "execution": {
     "iopub.execute_input": "2024-11-23T15:01:45.975951Z",
     "iopub.status.busy": "2024-11-23T15:01:45.975593Z",
     "iopub.status.idle": "2024-11-23T15:01:45.981463Z",
     "shell.execute_reply": "2024-11-23T15:01:45.980281Z"
    },
    "executionInfo": {
     "elapsed": 284,
     "status": "ok",
     "timestamp": 1732357279688,
     "user": {
      "displayName": "Ahmed Lotfy",
      "userId": "06695974026339219292"
     },
     "user_tz": -120
    },
    "id": "5udlGhqNhDgm",
    "outputId": "80bdfdc9-5b4c-412b-d4a1-07d950f65fb3",
    "papermill": {
     "duration": 0.024584,
     "end_time": "2024-11-23T15:01:45.983686",
     "exception": false,
     "start_time": "2024-11-23T15:01:45.959102",
     "status": "completed"
    },
    "tags": []
   },
   "outputs": [
    {
     "name": "stdout",
     "output_type": "stream",
     "text": [
      "I am  living in the quiet of shadows but within me lies a sleeping beast Beware of awakening it for the calm you see now is merely the calm before the storm\n"
     ]
    }
   ],
   "source": [
    "trailing_leading_text = \"            I am  living in the quiet of shadows but within me lies a sleeping beast Beware of awakening it for the calm you see now is merely the calm before the storm\"\n",
    "\n",
    "# print(trailing_leading_text.strip())\n",
    "\n",
    "# print(trailing_leading_text.rstrip())\n",
    "\n",
    "print(trailing_leading_text.lstrip())"
   ]
  },
  {
   "cell_type": "code",
   "execution_count": 25,
   "id": "d91458c3",
   "metadata": {
    "execution": {
     "iopub.execute_input": "2024-11-23T15:01:46.016580Z",
     "iopub.status.busy": "2024-11-23T15:01:46.016196Z",
     "iopub.status.idle": "2024-11-23T15:01:46.021386Z",
     "shell.execute_reply": "2024-11-23T15:01:46.020192Z"
    },
    "executionInfo": {
     "elapsed": 319,
     "status": "ok",
     "timestamp": 1732357304535,
     "user": {
      "displayName": "Ahmed Lotfy",
      "userId": "06695974026339219292"
     },
     "user_tz": -120
    },
    "id": "Q5JQ0_HJiaf_",
    "outputId": "d4decfee-62f7-4325-9a9f-5421fc8855ce",
    "papermill": {
     "duration": 0.024366,
     "end_time": "2024-11-23T15:01:46.023513",
     "exception": false,
     "start_time": "2024-11-23T15:01:45.999147",
     "status": "completed"
    },
    "tags": []
   },
   "outputs": [
    {
     "name": "stdout",
     "output_type": "stream",
     "text": [
      "This  or substring can be removed\n"
     ]
    }
   ],
   "source": [
    "example_text = \"This word or substring can be removed\"\n",
    "\n",
    "print(example_text.replace(\"word\", \"\"))"
   ]
  },
  {
   "cell_type": "code",
   "execution_count": 26,
   "id": "2a81d502",
   "metadata": {
    "execution": {
     "iopub.execute_input": "2024-11-23T15:01:46.057477Z",
     "iopub.status.busy": "2024-11-23T15:01:46.056352Z",
     "iopub.status.idle": "2024-11-23T15:01:46.062385Z",
     "shell.execute_reply": "2024-11-23T15:01:46.061234Z"
    },
    "executionInfo": {
     "elapsed": 313,
     "status": "ok",
     "timestamp": 1732357329386,
     "user": {
      "displayName": "Ahmed Lotfy",
      "userId": "06695974026339219292"
     },
     "user_tz": -120
    },
    "id": "0jXKJnCqiwIu",
    "outputId": "5dc90394-f12b-4c4f-c609-462c16bd8cb8",
    "papermill": {
     "duration": 0.025245,
     "end_time": "2024-11-23T15:01:46.064678",
     "exception": false,
     "start_time": "2024-11-23T15:01:46.039433",
     "status": "completed"
    },
    "tags": []
   },
   "outputs": [
    {
     "name": "stdout",
     "output_type": "stream",
     "text": [
      "This  or substring can be removed but not s\n"
     ]
    }
   ],
   "source": [
    "example_text = \"This word or substring can be removed but not words\"\n",
    "\n",
    "print(example_text.replace(\"word\", \"\"))"
   ]
  },
  {
   "cell_type": "code",
   "execution_count": 27,
   "id": "151a90b8",
   "metadata": {
    "execution": {
     "iopub.execute_input": "2024-11-23T15:01:46.098755Z",
     "iopub.status.busy": "2024-11-23T15:01:46.098347Z",
     "iopub.status.idle": "2024-11-23T15:01:46.105806Z",
     "shell.execute_reply": "2024-11-23T15:01:46.104786Z"
    },
    "executionInfo": {
     "elapsed": 314,
     "status": "ok",
     "timestamp": 1732357440133,
     "user": {
      "displayName": "Ahmed Lotfy",
      "userId": "06695974026339219292"
     },
     "user_tz": -120
    },
    "id": "9TzCIFb0iyhS",
    "outputId": "5633c709-f332-4125-f0a3-497b6db2e3a9",
    "papermill": {
     "duration": 0.027062,
     "end_time": "2024-11-23T15:01:46.107813",
     "exception": false,
     "start_time": "2024-11-23T15:01:46.080751",
     "status": "completed"
    },
    "tags": []
   },
   "outputs": [
    {
     "data": {
      "text/plain": [
       "'This  or substring can be removed but not words'"
      ]
     },
     "execution_count": 27,
     "metadata": {},
     "output_type": "execute_result"
    }
   ],
   "source": [
    "example_text = \"This word or substring can be removed but not words\"\n",
    "\n",
    "re.sub(r\"(\\bword\\b)\", \"\", example_text)"
   ]
  },
  {
   "cell_type": "code",
   "execution_count": 28,
   "id": "feb54f30",
   "metadata": {
    "execution": {
     "iopub.execute_input": "2024-11-23T15:01:46.142099Z",
     "iopub.status.busy": "2024-11-23T15:01:46.141024Z",
     "iopub.status.idle": "2024-11-23T15:01:46.148963Z",
     "shell.execute_reply": "2024-11-23T15:01:46.147937Z"
    },
    "executionInfo": {
     "elapsed": 296,
     "status": "ok",
     "timestamp": 1732357684973,
     "user": {
      "displayName": "Ahmed Lotfy",
      "userId": "06695974026339219292"
     },
     "user_tz": -120
    },
    "id": "Z-z_VPZWi6Ak",
    "outputId": "289b9388-0dfa-4892-b6e4-53968891cfde",
    "papermill": {
     "duration": 0.027586,
     "end_time": "2024-11-23T15:01:46.151238",
     "exception": false,
     "start_time": "2024-11-23T15:01:46.123652",
     "status": "completed"
    },
    "tags": []
   },
   "outputs": [
    {
     "data": {
      "text/plain": [
       "'i love hearing music  classic bs'"
      ]
     },
     "execution_count": 28,
     "metadata": {},
     "output_type": "execute_result"
    }
   ],
   "source": [
    "T='i love hearing music and classic bands'\n",
    "\n",
    "re.sub(\"and\", \"\", T)"
   ]
  },
  {
   "cell_type": "code",
   "execution_count": 29,
   "id": "cf574e29",
   "metadata": {
    "execution": {
     "iopub.execute_input": "2024-11-23T15:01:46.184874Z",
     "iopub.status.busy": "2024-11-23T15:01:46.184469Z",
     "iopub.status.idle": "2024-11-23T15:01:46.191204Z",
     "shell.execute_reply": "2024-11-23T15:01:46.190243Z"
    },
    "executionInfo": {
     "elapsed": 302,
     "status": "ok",
     "timestamp": 1732357702941,
     "user": {
      "displayName": "Ahmed Lotfy",
      "userId": "06695974026339219292"
     },
     "user_tz": -120
    },
    "id": "lPmZX298j9Ir",
    "outputId": "ee07b1ba-70cc-4fb0-a20e-cac856c2e50e",
    "papermill": {
     "duration": 0.025904,
     "end_time": "2024-11-23T15:01:46.193204",
     "exception": false,
     "start_time": "2024-11-23T15:01:46.167300",
     "status": "completed"
    },
    "tags": []
   },
   "outputs": [
    {
     "data": {
      "text/plain": [
       "'i love hearing music  classic bands'"
      ]
     },
     "execution_count": 29,
     "metadata": {},
     "output_type": "execute_result"
    }
   ],
   "source": [
    "re.sub(r\"\\band\\b\", \"\", T)"
   ]
  },
  {
   "cell_type": "code",
   "execution_count": 30,
   "id": "2d042784",
   "metadata": {
    "execution": {
     "iopub.execute_input": "2024-11-23T15:01:46.227926Z",
     "iopub.status.busy": "2024-11-23T15:01:46.227527Z",
     "iopub.status.idle": "2024-11-23T15:01:46.234059Z",
     "shell.execute_reply": "2024-11-23T15:01:46.233037Z"
    },
    "executionInfo": {
     "elapsed": 287,
     "status": "ok",
     "timestamp": 1732357903437,
     "user": {
      "displayName": "Ahmed Lotfy",
      "userId": "06695974026339219292"
     },
     "user_tz": -120
    },
    "id": "H0pfrZaJkMHy",
    "outputId": "e9f21c27-7b9f-4606-bc6a-3afe23f62833",
    "papermill": {
     "duration": 0.026565,
     "end_time": "2024-11-23T15:01:46.236272",
     "exception": false,
     "start_time": "2024-11-23T15:01:46.209707",
     "status": "completed"
    },
    "tags": []
   },
   "outputs": [
    {
     "data": {
      "text/plain": [
       "['i', 'love', 'hearing', 'music', 'and', 'classic', 'bands']"
      ]
     },
     "execution_count": 30,
     "metadata": {},
     "output_type": "execute_result"
    }
   ],
   "source": [
    "[i for i in T.split() ]"
   ]
  },
  {
   "cell_type": "code",
   "execution_count": 31,
   "id": "9d3b3832",
   "metadata": {
    "execution": {
     "iopub.execute_input": "2024-11-23T15:01:46.271145Z",
     "iopub.status.busy": "2024-11-23T15:01:46.270235Z",
     "iopub.status.idle": "2024-11-23T15:01:46.276884Z",
     "shell.execute_reply": "2024-11-23T15:01:46.275901Z"
    },
    "executionInfo": {
     "elapsed": 303,
     "status": "ok",
     "timestamp": 1732357905750,
     "user": {
      "displayName": "Ahmed Lotfy",
      "userId": "06695974026339219292"
     },
     "user_tz": -120
    },
    "id": "cRipGCLokWyw",
    "outputId": "1f71ca94-1f01-4f80-b450-e0d94c903c78",
    "papermill": {
     "duration": 0.026386,
     "end_time": "2024-11-23T15:01:46.278799",
     "exception": false,
     "start_time": "2024-11-23T15:01:46.252413",
     "status": "completed"
    },
    "tags": []
   },
   "outputs": [
    {
     "data": {
      "text/plain": [
       "'i love hearing music classic bands'"
      ]
     },
     "execution_count": 31,
     "metadata": {},
     "output_type": "execute_result"
    }
   ],
   "source": [
    "' '.join([i for i in T.split() if not i=='and' ])"
   ]
  },
  {
   "cell_type": "code",
   "execution_count": 32,
   "id": "eb17b41e",
   "metadata": {
    "execution": {
     "iopub.execute_input": "2024-11-23T15:01:46.313427Z",
     "iopub.status.busy": "2024-11-23T15:01:46.312546Z",
     "iopub.status.idle": "2024-11-23T15:01:46.318610Z",
     "shell.execute_reply": "2024-11-23T15:01:46.317542Z"
    },
    "executionInfo": {
     "elapsed": 334,
     "status": "ok",
     "timestamp": 1732363765679,
     "user": {
      "displayName": "Ahmed Lotfy",
      "userId": "06695974026339219292"
     },
     "user_tz": -120
    },
    "id": "1EOjOiirkky8",
    "outputId": "aa9d360f-d618-4317-e84e-94679b513ebb",
    "papermill": {
     "duration": 0.025797,
     "end_time": "2024-11-23T15:01:46.320873",
     "exception": false,
     "start_time": "2024-11-23T15:01:46.295076",
     "status": "completed"
    },
    "tags": []
   },
   "outputs": [
    {
     "name": "stdout",
     "output_type": "stream",
     "text": [
      "This is a paragraph with HTML tags.\n"
     ]
    }
   ],
   "source": [
    "# Removing HTML tags:\n",
    "\n",
    "import re\n",
    "\n",
    "text = \"<p>This is a paragraph with HTML tags.</p>\"\n",
    "\n",
    "clean_text = re.sub(r\"<.*?>\", \"\", text)\n",
    "\n",
    "print(clean_text)"
   ]
  },
  {
   "cell_type": "code",
   "execution_count": 33,
   "id": "c69786cc",
   "metadata": {
    "execution": {
     "iopub.execute_input": "2024-11-23T15:01:46.355098Z",
     "iopub.status.busy": "2024-11-23T15:01:46.354111Z",
     "iopub.status.idle": "2024-11-23T15:01:46.360180Z",
     "shell.execute_reply": "2024-11-23T15:01:46.359078Z"
    },
    "executionInfo": {
     "elapsed": 321,
     "status": "ok",
     "timestamp": 1732363998749,
     "user": {
      "displayName": "Ahmed Lotfy",
      "userId": "06695974026339219292"
     },
     "user_tz": -120
    },
    "id": "GIFPJbI27US3",
    "outputId": "1cf1a19d-7442-494b-f120-8033dd581b3d",
    "papermill": {
     "duration": 0.025691,
     "end_time": "2024-11-23T15:01:46.362645",
     "exception": false,
     "start_time": "2024-11-23T15:01:46.336954",
     "status": "completed"
    },
    "tags": []
   },
   "outputs": [
    {
     "name": "stdout",
     "output_type": "stream",
     "text": [
      "This is a sentence with punctuation\t\t\t\t\t\t\t\t\t\t\t\t\t\t\t\t\t\t\n"
     ]
    }
   ],
   "source": [
    "# This code will remove all HTML tags from the text and print the following output:\n",
    "\n",
    "\n",
    "\n",
    "# This is a paragraph with HTML tags.\n",
    "\n",
    "# Removing punctuation:\n",
    "\n",
    "\n",
    "\n",
    "import re\n",
    "\n",
    "text = \"This is a sentence with punctuation!???()+-*\t\t\t\t\t\t⛩️\t⛪️\t\t\t\t\t\t⛰️\t⛱️\t⛲️\t⛳️\t⛴️\t\"\n",
    "\n",
    "clean_text = re.sub(r\"[^\\w\\s]\", \"\", text)\n",
    "\n",
    "print(clean_text)"
   ]
  },
  {
   "cell_type": "code",
   "execution_count": 34,
   "id": "862a67ca",
   "metadata": {
    "execution": {
     "iopub.execute_input": "2024-11-23T15:01:46.396789Z",
     "iopub.status.busy": "2024-11-23T15:01:46.396378Z",
     "iopub.status.idle": "2024-11-23T15:01:46.402326Z",
     "shell.execute_reply": "2024-11-23T15:01:46.401095Z"
    },
    "executionInfo": {
     "elapsed": 274,
     "status": "ok",
     "timestamp": 1732375174465,
     "user": {
      "displayName": "Ahmed Lotfy",
      "userId": "06695974026339219292"
     },
     "user_tz": -120
    },
    "id": "6Ok5Hz0gmsme",
    "outputId": "7ebffc7e-f8a0-4984-c56e-ad59291d3810",
    "papermill": {
     "duration": 0.025992,
     "end_time": "2024-11-23T15:01:46.404849",
     "exception": false,
     "start_time": "2024-11-23T15:01:46.378857",
     "status": "completed"
    },
    "tags": []
   },
   "outputs": [
    {
     "name": "stdout",
     "output_type": "stream",
     "text": [
      " This is a sentence with extra whitespace. \n"
     ]
    }
   ],
   "source": [
    "# This code will convert all uppercase letters in the text to lowercase and print the following output:\n",
    "\n",
    "# this is a sentence with mixed case.\n",
    "\n",
    "# Removing extra whitespace:\n",
    "\n",
    "import re\n",
    "\n",
    "text = \" This is   a sentence  with extra whitespace. \"\n",
    "\n",
    "clean_text = re.sub(r\"\\s+\", \" \", text)\n",
    "\n",
    "print(clean_text)"
   ]
  },
  {
   "cell_type": "code",
   "execution_count": 35,
   "id": "a6c7e369",
   "metadata": {
    "execution": {
     "iopub.execute_input": "2024-11-23T15:01:46.439479Z",
     "iopub.status.busy": "2024-11-23T15:01:46.439076Z",
     "iopub.status.idle": "2024-11-23T15:01:46.446417Z",
     "shell.execute_reply": "2024-11-23T15:01:46.445325Z"
    },
    "executionInfo": {
     "elapsed": 298,
     "status": "ok",
     "timestamp": 1732375243458,
     "user": {
      "displayName": "Ahmed Lotfy",
      "userId": "06695974026339219292"
     },
     "user_tz": -120
    },
    "id": "Zjufvlr8m-0q",
    "outputId": "05a8a8da-a5c2-4874-a619-71e2c3a97690",
    "papermill": {
     "duration": 0.027455,
     "end_time": "2024-11-23T15:01:46.448747",
     "exception": false,
     "start_time": "2024-11-23T15:01:46.421292",
     "status": "completed"
    },
    "tags": []
   },
   "outputs": [
    {
     "data": {
      "text/plain": [
       "'010-9621-4238'"
      ]
     },
     "execution_count": 35,
     "metadata": {},
     "output_type": "execute_result"
    }
   ],
   "source": [
    "text = \"My telephone number is 010-9621-4238 and mohamed`s phone is 856-987-6632 \"\n",
    "\n",
    "phone = re.search(r'\\d\\d\\d-\\d\\d\\d\\d-\\d\\d\\d\\d',text)\n",
    "\n",
    "phone.group()"
   ]
  },
  {
   "cell_type": "code",
   "execution_count": 36,
   "id": "1557d1f4",
   "metadata": {
    "execution": {
     "iopub.execute_input": "2024-11-23T15:01:46.484470Z",
     "iopub.status.busy": "2024-11-23T15:01:46.484063Z",
     "iopub.status.idle": "2024-11-23T15:01:46.491103Z",
     "shell.execute_reply": "2024-11-23T15:01:46.490048Z"
    },
    "executionInfo": {
     "elapsed": 293,
     "status": "ok",
     "timestamp": 1732375257894,
     "user": {
      "displayName": "Ahmed Lotfy",
      "userId": "06695974026339219292"
     },
     "user_tz": -120
    },
    "id": "IWdPG-XGnJXe",
    "outputId": "36192c4b-f285-4f9d-c3ad-a11be9e5dd2d",
    "papermill": {
     "duration": 0.027701,
     "end_time": "2024-11-23T15:01:46.493375",
     "exception": false,
     "start_time": "2024-11-23T15:01:46.465674",
     "status": "completed"
    },
    "tags": []
   },
   "outputs": [
    {
     "data": {
      "text/plain": [
       "<re.Match object; span=(23, 36), match='010-9621-4238'>"
      ]
     },
     "execution_count": 36,
     "metadata": {},
     "output_type": "execute_result"
    }
   ],
   "source": [
    "re.search(r'\\d{3}-\\d{4}-\\d{4}',text)"
   ]
  },
  {
   "cell_type": "code",
   "execution_count": 37,
   "id": "0c185978",
   "metadata": {
    "execution": {
     "iopub.execute_input": "2024-11-23T15:01:46.528776Z",
     "iopub.status.busy": "2024-11-23T15:01:46.527829Z",
     "iopub.status.idle": "2024-11-23T15:01:46.534822Z",
     "shell.execute_reply": "2024-11-23T15:01:46.533748Z"
    },
    "executionInfo": {
     "elapsed": 297,
     "status": "ok",
     "timestamp": 1732375299955,
     "user": {
      "displayName": "Ahmed Lotfy",
      "userId": "06695974026339219292"
     },
     "user_tz": -120
    },
    "id": "446IgpDZnTJK",
    "outputId": "56888287-75d5-44bc-b078-6e4677d9cda1",
    "papermill": {
     "duration": 0.027063,
     "end_time": "2024-11-23T15:01:46.537045",
     "exception": false,
     "start_time": "2024-11-23T15:01:46.509982",
     "status": "completed"
    },
    "tags": []
   },
   "outputs": [
    {
     "data": {
      "text/plain": [
       "<re.Match object; span=(60, 72), match='856-987-6632'>"
      ]
     },
     "execution_count": 37,
     "metadata": {},
     "output_type": "execute_result"
    }
   ],
   "source": [
    "re.search(r'\\d{3}-\\d{3}-\\d{4}',text)"
   ]
  },
  {
   "cell_type": "code",
   "execution_count": 38,
   "id": "43a91f8d",
   "metadata": {
    "execution": {
     "iopub.execute_input": "2024-11-23T15:01:46.573681Z",
     "iopub.status.busy": "2024-11-23T15:01:46.573273Z",
     "iopub.status.idle": "2024-11-23T15:01:46.580640Z",
     "shell.execute_reply": "2024-11-23T15:01:46.579564Z"
    },
    "executionInfo": {
     "elapsed": 341,
     "status": "ok",
     "timestamp": 1732375391994,
     "user": {
      "displayName": "Ahmed Lotfy",
      "userId": "06695974026339219292"
     },
     "user_tz": -120
    },
    "id": "aRwgUVpMnUS5",
    "outputId": "7821351e-bcd5-4c18-dd4f-d517bc1cf0ca",
    "papermill": {
     "duration": 0.027461,
     "end_time": "2024-11-23T15:01:46.582791",
     "exception": false,
     "start_time": "2024-11-23T15:01:46.555330",
     "status": "completed"
    },
    "tags": []
   },
   "outputs": [
    {
     "data": {
      "text/plain": [
       "'856-987-6632'"
      ]
     },
     "execution_count": 38,
     "metadata": {},
     "output_type": "execute_result"
    }
   ],
   "source": [
    "phone_pattern =(r'(\\d{3})-(\\d{3})-(\\d{4})')\n",
    "\n",
    "results = re.search(phone_pattern,text)\n",
    "\n",
    "results.group()"
   ]
  },
  {
   "cell_type": "code",
   "execution_count": 39,
   "id": "310cd5c0",
   "metadata": {
    "execution": {
     "iopub.execute_input": "2024-11-23T15:01:46.618267Z",
     "iopub.status.busy": "2024-11-23T15:01:46.617852Z",
     "iopub.status.idle": "2024-11-23T15:01:46.624926Z",
     "shell.execute_reply": "2024-11-23T15:01:46.623838Z"
    },
    "executionInfo": {
     "elapsed": 272,
     "status": "ok",
     "timestamp": 1732375421213,
     "user": {
      "displayName": "Ahmed Lotfy",
      "userId": "06695974026339219292"
     },
     "user_tz": -120
    },
    "id": "ZxMnsyApnxES",
    "outputId": "5de3f05d-0a34-43a8-b389-ccd1df59c5e3",
    "papermill": {
     "duration": 0.027686,
     "end_time": "2024-11-23T15:01:46.627131",
     "exception": false,
     "start_time": "2024-11-23T15:01:46.599445",
     "status": "completed"
    },
    "tags": []
   },
   "outputs": [
    {
     "data": {
      "text/plain": [
       "('856', '987', '6632')"
      ]
     },
     "execution_count": 39,
     "metadata": {},
     "output_type": "execute_result"
    }
   ],
   "source": [
    "results.group(1), results.group(2) , results.group(3)"
   ]
  },
  {
   "cell_type": "code",
   "execution_count": 40,
   "id": "1b6ad5ed",
   "metadata": {
    "execution": {
     "iopub.execute_input": "2024-11-23T15:01:46.662003Z",
     "iopub.status.busy": "2024-11-23T15:01:46.661571Z",
     "iopub.status.idle": "2024-11-23T15:01:46.668495Z",
     "shell.execute_reply": "2024-11-23T15:01:46.667207Z"
    },
    "executionInfo": {
     "elapsed": 284,
     "status": "ok",
     "timestamp": 1732375479413,
     "user": {
      "displayName": "Ahmed Lotfy",
      "userId": "06695974026339219292"
     },
     "user_tz": -120
    },
    "id": "_KZCpgMVn_E-",
    "outputId": "51dd9e4f-4c3d-4ade-cb7d-6dae45dd42b6",
    "papermill": {
     "duration": 0.026962,
     "end_time": "2024-11-23T15:01:46.670770",
     "exception": false,
     "start_time": "2024-11-23T15:01:46.643808",
     "status": "completed"
    },
    "tags": []
   },
   "outputs": [
    {
     "data": {
      "text/plain": [
       "<re.Match object; span=(5, 8), match='man'>"
      ]
     },
     "execution_count": 40,
     "metadata": {},
     "output_type": "execute_result"
    }
   ],
   "source": [
    "re.search(r\"man|woman\",\"This man was here.\")"
   ]
  },
  {
   "cell_type": "code",
   "execution_count": 41,
   "id": "9c89de7b",
   "metadata": {
    "execution": {
     "iopub.execute_input": "2024-11-23T15:01:46.706531Z",
     "iopub.status.busy": "2024-11-23T15:01:46.706131Z",
     "iopub.status.idle": "2024-11-23T15:01:46.712803Z",
     "shell.execute_reply": "2024-11-23T15:01:46.711728Z"
    },
    "executionInfo": {
     "elapsed": 541,
     "status": "ok",
     "timestamp": 1732375491067,
     "user": {
      "displayName": "Ahmed Lotfy",
      "userId": "06695974026339219292"
     },
     "user_tz": -120
    },
    "id": "Qwmtr5vcoAGU",
    "outputId": "790fa1b7-fd91-42c6-ed60-fd51ff81cc24",
    "papermill": {
     "duration": 0.026975,
     "end_time": "2024-11-23T15:01:46.714868",
     "exception": false,
     "start_time": "2024-11-23T15:01:46.687893",
     "status": "completed"
    },
    "tags": []
   },
   "outputs": [
    {
     "data": {
      "text/plain": [
       "<re.Match object; span=(5, 10), match='woman'>"
      ]
     },
     "execution_count": 41,
     "metadata": {},
     "output_type": "execute_result"
    }
   ],
   "source": [
    "re.search(r\"man|woman\",\"This woman was here.\")\n"
   ]
  },
  {
   "cell_type": "code",
   "execution_count": 42,
   "id": "78fc2fcd",
   "metadata": {
    "execution": {
     "iopub.execute_input": "2024-11-23T15:01:46.750425Z",
     "iopub.status.busy": "2024-11-23T15:01:46.750023Z",
     "iopub.status.idle": "2024-11-23T15:01:46.757127Z",
     "shell.execute_reply": "2024-11-23T15:01:46.755870Z"
    },
    "executionInfo": {
     "elapsed": 365,
     "status": "ok",
     "timestamp": 1732375828447,
     "user": {
      "displayName": "Ahmed Lotfy",
      "userId": "06695974026339219292"
     },
     "user_tz": -120
    },
    "id": "NVvuJfNBoC5I",
    "outputId": "fd194695-4578-490f-a316-339b7e1ae192",
    "papermill": {
     "duration": 0.027036,
     "end_time": "2024-11-23T15:01:46.759064",
     "exception": false,
     "start_time": "2024-11-23T15:01:46.732028",
     "status": "completed"
    },
    "tags": []
   },
   "outputs": [
    {
     "data": {
      "text/plain": [
       "['cat', 'hat', 'sat']"
      ]
     },
     "execution_count": 42,
     "metadata": {},
     "output_type": "execute_result"
    }
   ],
   "source": [
    "re.findall(r\".at\",\"The cat in the hat sat here.\")"
   ]
  },
  {
   "cell_type": "code",
   "execution_count": 43,
   "id": "d4aa7708",
   "metadata": {
    "execution": {
     "iopub.execute_input": "2024-11-23T15:01:46.795852Z",
     "iopub.status.busy": "2024-11-23T15:01:46.794822Z",
     "iopub.status.idle": "2024-11-23T15:01:46.802722Z",
     "shell.execute_reply": "2024-11-23T15:01:46.801404Z"
    },
    "executionInfo": {
     "elapsed": 278,
     "status": "ok",
     "timestamp": 1732376468395,
     "user": {
      "displayName": "Ahmed Lotfy",
      "userId": "06695974026339219292"
     },
     "user_tz": -120
    },
    "id": "2t4CJ8AFpVTY",
    "outputId": "53c04f41-44e2-4767-9ffc-e1809a400eda",
    "papermill": {
     "duration": 0.029037,
     "end_time": "2024-11-23T15:01:46.805065",
     "exception": false,
     "start_time": "2024-11-23T15:01:46.776028",
     "status": "completed"
    },
    "tags": []
   },
   "outputs": [
    {
     "data": {
      "text/plain": [
       "['Khalid ',\n",
       " ' is',\n",
       " 'ers',\n",
       " 'his',\n",
       " 'his',\n",
       " 'was',\n",
       " 'les',\n",
       " 'ins',\n",
       " 'y s',\n",
       " 'ces',\n",
       " 'ers',\n",
       " 'Sas',\n",
       " 'ies',\n",
       " 'bes',\n",
       " 'Khalid ',\n",
       " ' is',\n",
       " 'tes',\n",
       " 'ers',\n",
       " 'his',\n",
       " 'tes',\n",
       " 'Khalid ',\n",
       " 'eas']"
      ]
     },
     "execution_count": 43,
     "metadata": {},
     "output_type": "execute_result"
    }
   ],
   "source": [
    "T='''Khalid ibn al-Walid is one of the few army leaders in history who remained undefeated in battle throughout his life.\n",
    "\n",
    " He was undefeated in more than a hundred battles against numerically superior forces from the Byzantine Roman Empire,\n",
    "\n",
    "  the Persian Sassanid Empire and their allies, in addition to many other Arab tribes.\n",
    "\n",
    "  Khalid ibn al-Walid is one of the greatest military leaders in history, in fact the greatest.\n",
    "\n",
    "   May God have mercy on Khalid ibn al-Walid, may God be pleased with him. '''\n",
    "\n",
    "re.findall(r\"..s|Kh.....\",T)"
   ]
  },
  {
   "cell_type": "code",
   "execution_count": 44,
   "id": "7ab36b38",
   "metadata": {
    "execution": {
     "iopub.execute_input": "2024-11-23T15:01:46.842459Z",
     "iopub.status.busy": "2024-11-23T15:01:46.842069Z",
     "iopub.status.idle": "2024-11-23T15:01:46.849231Z",
     "shell.execute_reply": "2024-11-23T15:01:46.848098Z"
    },
    "executionInfo": {
     "elapsed": 369,
     "status": "ok",
     "timestamp": 1732376504065,
     "user": {
      "displayName": "Ahmed Lotfy",
      "userId": "06695974026339219292"
     },
     "user_tz": -120
    },
    "id": "S0-Awpu2qraq",
    "outputId": "c83742e0-b9d9-4480-89bf-661b33a94f06",
    "papermill": {
     "duration": 0.028249,
     "end_time": "2024-11-23T15:01:46.851640",
     "exception": false,
     "start_time": "2024-11-23T15:01:46.823391",
     "status": "completed"
    },
    "tags": []
   },
   "outputs": [
    {
     "data": {
      "text/plain": [
       "['bat', 'splat', '*plat']"
      ]
     },
     "execution_count": 44,
     "metadata": {},
     "output_type": "execute_result"
    }
   ],
   "source": [
    "re.findall(r'\\S+at',\"The bat went splat *plat\")"
   ]
  },
  {
   "cell_type": "code",
   "execution_count": 45,
   "id": "28356abc",
   "metadata": {
    "execution": {
     "iopub.execute_input": "2024-11-23T15:01:46.888057Z",
     "iopub.status.busy": "2024-11-23T15:01:46.887609Z",
     "iopub.status.idle": "2024-11-23T15:01:46.894605Z",
     "shell.execute_reply": "2024-11-23T15:01:46.893526Z"
    },
    "executionInfo": {
     "elapsed": 415,
     "status": "ok",
     "timestamp": 1732376533469,
     "user": {
      "displayName": "Ahmed Lotfy",
      "userId": "06695974026339219292"
     },
     "user_tz": -120
    },
    "id": "3krVx34PsAi4",
    "outputId": "b39497c3-6add-4413-ff32-ab6634e7aea3",
    "papermill": {
     "duration": 0.027585,
     "end_time": "2024-11-23T15:01:46.896639",
     "exception": false,
     "start_time": "2024-11-23T15:01:46.869054",
     "status": "completed"
    },
    "tags": []
   },
   "outputs": [
    {
     "data": {
      "text/plain": [
       "['8']"
      ]
     },
     "execution_count": 45,
     "metadata": {},
     "output_type": "execute_result"
    }
   ],
   "source": [
    "re.findall(r'\\d$','This ends with a number 28')"
   ]
  },
  {
   "cell_type": "code",
   "execution_count": 46,
   "id": "adb36216",
   "metadata": {
    "execution": {
     "iopub.execute_input": "2024-11-23T15:01:46.934313Z",
     "iopub.status.busy": "2024-11-23T15:01:46.933374Z",
     "iopub.status.idle": "2024-11-23T15:01:46.940485Z",
     "shell.execute_reply": "2024-11-23T15:01:46.939496Z"
    },
    "executionInfo": {
     "elapsed": 457,
     "status": "ok",
     "timestamp": 1732376560263,
     "user": {
      "displayName": "Ahmed Lotfy",
      "userId": "06695974026339219292"
     },
     "user_tz": -120
    },
    "id": "W3BcCLXDsG5I",
    "outputId": "573bd32f-5ebe-413b-a28b-7e40d05cd9c7",
    "papermill": {
     "duration": 0.028162,
     "end_time": "2024-11-23T15:01:46.942646",
     "exception": false,
     "start_time": "2024-11-23T15:01:46.914484",
     "status": "completed"
    },
    "tags": []
   },
   "outputs": [
    {
     "data": {
      "text/plain": [
       "' is the loneliest number.'"
      ]
     },
     "execution_count": 46,
     "metadata": {},
     "output_type": "execute_result"
    }
   ],
   "source": [
    "''.join(re.findall(r'[^\\d]','1 is the loneliest number.'))"
   ]
  },
  {
   "cell_type": "code",
   "execution_count": 47,
   "id": "5a148b77",
   "metadata": {
    "execution": {
     "iopub.execute_input": "2024-11-23T15:01:47.033629Z",
     "iopub.status.busy": "2024-11-23T15:01:47.033241Z",
     "iopub.status.idle": "2024-11-23T15:01:47.040172Z",
     "shell.execute_reply": "2024-11-23T15:01:47.039056Z"
    },
    "executionInfo": {
     "elapsed": 3,
     "status": "ok",
     "timestamp": 1732376579328,
     "user": {
      "displayName": "Ahmed Lotfy",
      "userId": "06695974026339219292"
     },
     "user_tz": -120
    },
    "id": "TRN9ZwjesMDc",
    "outputId": "56ffa65b-6192-4852-f432-a20896f6302b",
    "papermill": {
     "duration": 0.082178,
     "end_time": "2024-11-23T15:01:47.042303",
     "exception": false,
     "start_time": "2024-11-23T15:01:46.960125",
     "status": "completed"
    },
    "tags": []
   },
   "outputs": [
    {
     "data": {
      "text/plain": [
       "['1']"
      ]
     },
     "execution_count": 47,
     "metadata": {},
     "output_type": "execute_result"
    }
   ],
   "source": [
    "re.findall(r'^\\d','1 is the loneliest number.')"
   ]
  },
  {
   "cell_type": "code",
   "execution_count": 48,
   "id": "845b095c",
   "metadata": {
    "execution": {
     "iopub.execute_input": "2024-11-23T15:01:47.081465Z",
     "iopub.status.busy": "2024-11-23T15:01:47.080417Z",
     "iopub.status.idle": "2024-11-23T15:01:47.087452Z",
     "shell.execute_reply": "2024-11-23T15:01:47.086384Z"
    },
    "executionInfo": {
     "elapsed": 301,
     "status": "ok",
     "timestamp": 1732376600978,
     "user": {
      "displayName": "Ahmed Lotfy",
      "userId": "06695974026339219292"
     },
     "user_tz": -120
    },
    "id": "QwM9amiYsRJ7",
    "outputId": "eab16841-f7a6-4f85-89bc-c69588b9c7da",
    "papermill": {
     "duration": 0.029245,
     "end_time": "2024-11-23T15:01:47.089556",
     "exception": false,
     "start_time": "2024-11-23T15:01:47.060311",
     "status": "completed"
    },
    "tags": []
   },
   "outputs": [
    {
     "data": {
      "text/plain": [
       "['there are ', ' numbers ', ' inside ', ' this sentence.']"
      ]
     },
     "execution_count": 48,
     "metadata": {},
     "output_type": "execute_result"
    }
   ],
   "source": [
    "phrase = \"there are 3 numbers 34 inside 5 this sentence.\"\n",
    "\n",
    "re.findall(r'[^\\d]+',phrase)"
   ]
  },
  {
   "cell_type": "code",
   "execution_count": 49,
   "id": "a5fbbc4b",
   "metadata": {
    "execution": {
     "iopub.execute_input": "2024-11-23T15:01:47.127068Z",
     "iopub.status.busy": "2024-11-23T15:01:47.126648Z",
     "iopub.status.idle": "2024-11-23T15:01:47.133342Z",
     "shell.execute_reply": "2024-11-23T15:01:47.132298Z"
    },
    "executionInfo": {
     "elapsed": 349,
     "status": "ok",
     "timestamp": 1732376755560,
     "user": {
      "displayName": "Ahmed Lotfy",
      "userId": "06695974026339219292"
     },
     "user_tz": -120
    },
    "id": "_WvW_dczsh_H",
    "outputId": "b5cb728d-c2b4-43cc-b76f-90ed1abb84fb",
    "papermill": {
     "duration": 0.027976,
     "end_time": "2024-11-23T15:01:47.135598",
     "exception": false,
     "start_time": "2024-11-23T15:01:47.107622",
     "status": "completed"
    },
    "tags": []
   },
   "outputs": [
    {
     "data": {
      "text/plain": [
       "['50', '8', '10']"
      ]
     },
     "execution_count": 49,
     "metadata": {},
     "output_type": "execute_result"
    }
   ],
   "source": [
    "phrase = 'قاد جورج مسافة 50 كيلو متر  من الساعة 8 الي الساعة 10'\n",
    "\n",
    "re.findall(r'[\\d]+',phrase)"
   ]
  },
  {
   "cell_type": "code",
   "execution_count": 50,
   "id": "07b24f2f",
   "metadata": {
    "execution": {
     "iopub.execute_input": "2024-11-23T15:01:47.175463Z",
     "iopub.status.busy": "2024-11-23T15:01:47.174495Z",
     "iopub.status.idle": "2024-11-23T15:01:47.181611Z",
     "shell.execute_reply": "2024-11-23T15:01:47.180422Z"
    },
    "executionInfo": {
     "elapsed": 382,
     "status": "ok",
     "timestamp": 1732376781132,
     "user": {
      "displayName": "Ahmed Lotfy",
      "userId": "06695974026339219292"
     },
     "user_tz": -120
    },
    "id": "QOE4HjN6s9J5",
    "outputId": "99d05609-3ef2-45ec-ff21-f4cc5afd7a19",
    "papermill": {
     "duration": 0.028605,
     "end_time": "2024-11-23T15:01:47.183620",
     "exception": false,
     "start_time": "2024-11-23T15:01:47.155015",
     "status": "completed"
    },
    "tags": []
   },
   "outputs": [
    {
     "data": {
      "text/plain": [
       "['قاد جورج مسافة ', ' كيلو متر  من الساعة ', ' الي الساعة ']"
      ]
     },
     "execution_count": 50,
     "metadata": {},
     "output_type": "execute_result"
    }
   ],
   "source": [
    "phrase = 'قاد جورج مسافة 50 كيلو متر  من الساعة 8 الي الساعة 10'\n",
    "\n",
    "re.findall(r'[^\\d]+',phrase)"
   ]
  },
  {
   "cell_type": "code",
   "execution_count": 51,
   "id": "5cbcd3bb",
   "metadata": {
    "execution": {
     "iopub.execute_input": "2024-11-23T15:01:47.221405Z",
     "iopub.status.busy": "2024-11-23T15:01:47.220391Z",
     "iopub.status.idle": "2024-11-23T15:01:47.227422Z",
     "shell.execute_reply": "2024-11-23T15:01:47.226383Z"
    },
    "executionInfo": {
     "elapsed": 263,
     "status": "ok",
     "timestamp": 1732376810980,
     "user": {
      "displayName": "Ahmed Lotfy",
      "userId": "06695974026339219292"
     },
     "user_tz": -120
    },
    "id": "Fkp22EmHtDRX",
    "outputId": "8cb3b467-7c58-4830-b533-77f7e1362274",
    "papermill": {
     "duration": 0.028128,
     "end_time": "2024-11-23T15:01:47.229544",
     "exception": false,
     "start_time": "2024-11-23T15:01:47.201416",
     "status": "completed"
    },
    "tags": []
   },
   "outputs": [
    {
     "data": {
      "text/plain": [
       "['نيو-يورك', 'سان-فرانسيسكو']"
      ]
     },
     "execution_count": 51,
     "metadata": {},
     "output_type": "execute_result"
    }
   ],
   "source": [
    "text = 'ذهبت الي مدينة نيو-يورك ,  و منها الي سان-فرانسيسكو'\n",
    "\n",
    "re.findall(r'[\\w]+-[\\w]+',text)"
   ]
  },
  {
   "cell_type": "code",
   "execution_count": 52,
   "id": "e756b6bc",
   "metadata": {
    "execution": {
     "iopub.execute_input": "2024-11-23T15:01:47.268107Z",
     "iopub.status.busy": "2024-11-23T15:01:47.267155Z",
     "iopub.status.idle": "2024-11-23T15:01:47.274442Z",
     "shell.execute_reply": "2024-11-23T15:01:47.273397Z"
    },
    "executionInfo": {
     "elapsed": 301,
     "status": "ok",
     "timestamp": 1732376852725,
     "user": {
      "displayName": "Ahmed Lotfy",
      "userId": "06695974026339219292"
     },
     "user_tz": -120
    },
    "id": "skKDBgD8tOw_",
    "outputId": "209fe0a2-bbf1-46e2-c78f-ebc69aa697b6",
    "papermill": {
     "duration": 0.028747,
     "end_time": "2024-11-23T15:01:47.276522",
     "exception": false,
     "start_time": "2024-11-23T15:01:47.247775",
     "status": "completed"
    },
    "tags": []
   },
   "outputs": [
    {
     "data": {
      "text/plain": [
       "['ماذا', 'كيف', 'تجرؤ', 'هل', 'تتخيل', 'عاقبة', 'هذا', 'الأمر', 'ويل', 'له']"
      ]
     },
     "execution_count": 52,
     "metadata": {},
     "output_type": "execute_result"
    }
   ],
   "source": [
    "test_phrase = ' ماذا ؟ ؟  كيف تجرؤ !! , هل تتخيل عاقبة هذا الأمر ؟ ؟  , ويل له . '\n",
    "\n",
    "re.findall('[^؟,!. ]+',test_phrase)"
   ]
  },
  {
   "cell_type": "code",
   "execution_count": 53,
   "id": "699f998c",
   "metadata": {
    "execution": {
     "iopub.execute_input": "2024-11-23T15:01:47.314694Z",
     "iopub.status.busy": "2024-11-23T15:01:47.314299Z",
     "iopub.status.idle": "2024-11-23T15:01:47.319978Z",
     "shell.execute_reply": "2024-11-23T15:01:47.318975Z"
    },
    "executionInfo": {
     "elapsed": 312,
     "status": "ok",
     "timestamp": 1732376871768,
     "user": {
      "displayName": "Ahmed Lotfy",
      "userId": "06695974026339219292"
     },
     "user_tz": -120
    },
    "id": "XF0MaqCltTZi",
    "outputId": "ac64c3d1-82c4-452d-c980-1df8ac8ed7ab",
    "papermill": {
     "duration": 0.027302,
     "end_time": "2024-11-23T15:01:47.322088",
     "exception": false,
     "start_time": "2024-11-23T15:01:47.294786",
     "status": "completed"
    },
    "tags": []
   },
   "outputs": [
    {
     "name": "stdout",
     "output_type": "stream",
     "text": [
      "ماذا كيف تجرؤ هل تتخيل عاقبة هذا الأمر ويل له\n"
     ]
    }
   ],
   "source": [
    "clean = ' '.join(re.findall('[^؟,!. ]+',test_phrase))\n",
    "\n",
    "print(clean)"
   ]
  }
 ],
 "metadata": {
  "colab": {
   "authorship_tag": "ABX9TyM1H7xcNRErE0hlC8Chw6sG",
   "provenance": []
  },
  "kaggle": {
   "accelerator": "none",
   "dataSources": [],
   "dockerImageVersionId": 30786,
   "isGpuEnabled": false,
   "isInternetEnabled": true,
   "language": "python",
   "sourceType": "notebook"
  },
  "kernelspec": {
   "display_name": "Python 3",
   "language": "python",
   "name": "python3"
  },
  "language_info": {
   "codemirror_mode": {
    "name": "ipython",
    "version": 3
   },
   "file_extension": ".py",
   "mimetype": "text/x-python",
   "name": "python",
   "nbconvert_exporter": "python",
   "pygments_lexer": "ipython3",
   "version": "3.10.14"
  },
  "papermill": {
   "default_parameters": {},
   "duration": 6.399996,
   "end_time": "2024-11-23T15:01:47.861469",
   "environment_variables": {},
   "exception": null,
   "input_path": "__notebook__.ipynb",
   "output_path": "__notebook__.ipynb",
   "parameters": {},
   "start_time": "2024-11-23T15:01:41.461473",
   "version": "2.6.0"
  }
 },
 "nbformat": 4,
 "nbformat_minor": 5
}
